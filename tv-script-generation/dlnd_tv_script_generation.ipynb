{
 "cells": [
  {
   "cell_type": "markdown",
   "metadata": {},
   "source": [
    "# TV Script Generation\n",
    "In this project, you'll generate your own [Simpsons](https://en.wikipedia.org/wiki/The_Simpsons) TV scripts using RNNs.  You'll be using part of the [Simpsons dataset](https://www.kaggle.com/wcukierski/the-simpsons-by-the-data) of scripts from 27 seasons.  The Neural Network you'll build will generate a new TV script for a scene at [Moe's Tavern](https://simpsonswiki.com/wiki/Moe's_Tavern).\n",
    "## Get the Data\n",
    "The data is already provided for you.  You'll be using a subset of the original dataset.  It consists of only the scenes in Moe's Tavern.  This doesn't include other versions of the tavern, like \"Moe's Cavern\", \"Flaming Moe's\", \"Uncle Moe's Family Feed-Bag\", etc.."
   ]
  },
  {
   "cell_type": "code",
   "execution_count": 1,
   "metadata": {
    "collapsed": true
   },
   "outputs": [],
   "source": [
    "\"\"\"\n",
    "DON'T MODIFY ANYTHING IN THIS CELL\n",
    "\"\"\"\n",
    "import helper\n",
    "\n",
    "data_dir = './data/simpsons/moes_tavern_lines.txt'\n",
    "text = helper.load_data(data_dir)\n",
    "# Ignore notice, since we don't use it for analysing the data\n",
    "text = text[81:]"
   ]
  },
  {
   "cell_type": "markdown",
   "metadata": {},
   "source": [
    "## Explore the Data\n",
    "Play around with `view_sentence_range` to view different parts of the data."
   ]
  },
  {
   "cell_type": "code",
   "execution_count": 2,
   "metadata": {},
   "outputs": [
    {
     "name": "stdout",
     "output_type": "stream",
     "text": [
      "Dataset Stats\n",
      "Roughly the number of unique words: 11492\n",
      "Number of scenes: 262\n",
      "Average number of sentences in each scene: 15.248091603053435\n",
      "Number of lines: 4257\n",
      "Average number of words in each line: 11.50434578341555\n",
      "\n",
      "The sentences 0 to 10:\n",
      "Moe_Szyslak: (INTO PHONE) Moe's Tavern. Where the elite meet to drink.\n",
      "Bart_Simpson: Eh, yeah, hello, is Mike there? Last name, Rotch.\n",
      "Moe_Szyslak: (INTO PHONE) Hold on, I'll check. (TO BARFLIES) Mike Rotch. Mike Rotch. Hey, has anybody seen Mike Rotch, lately?\n",
      "Moe_Szyslak: (INTO PHONE) Listen you little puke. One of these days I'm gonna catch you, and I'm gonna carve my name on your back with an ice pick.\n",
      "Moe_Szyslak: What's the matter Homer? You're not your normal effervescent self.\n",
      "Homer_Simpson: I got my problems, Moe. Give me another one.\n",
      "Moe_Szyslak: Homer, hey, you should not drink to forget your problems.\n",
      "Barney_Gumble: Yeah, you should only drink to enhance your social skills.\n",
      "\n",
      "\n"
     ]
    }
   ],
   "source": [
    "view_sentence_range = (0, 10)\n",
    "\n",
    "\"\"\"\n",
    "DON'T MODIFY ANYTHING IN THIS CELL\n",
    "\"\"\"\n",
    "import numpy as np\n",
    "\n",
    "print('Dataset Stats')\n",
    "print('Roughly the number of unique words: {}'.format(len({word: None for word in text.split()})))\n",
    "scenes = text.split('\\n\\n')\n",
    "print('Number of scenes: {}'.format(len(scenes)))\n",
    "sentence_count_scene = [scene.count('\\n') for scene in scenes]\n",
    "print('Average number of sentences in each scene: {}'.format(np.average(sentence_count_scene)))\n",
    "\n",
    "sentences = [sentence for scene in scenes for sentence in scene.split('\\n')]\n",
    "print('Number of lines: {}'.format(len(sentences)))\n",
    "word_count_sentence = [len(sentence.split()) for sentence in sentences]\n",
    "print('Average number of words in each line: {}'.format(np.average(word_count_sentence)))\n",
    "\n",
    "print()\n",
    "print('The sentences {} to {}:'.format(*view_sentence_range))\n",
    "print('\\n'.join(text.split('\\n')[view_sentence_range[0]:view_sentence_range[1]]))"
   ]
  },
  {
   "cell_type": "markdown",
   "metadata": {},
   "source": [
    "## Implement Preprocessing Functions\n",
    "The first thing to do to any dataset is preprocessing.  Implement the following preprocessing functions below:\n",
    "- Lookup Table\n",
    "- Tokenize Punctuation\n",
    "\n",
    "### Lookup Table\n",
    "To create a word embedding, you first need to transform the words to ids.  In this function, create two dictionaries:\n",
    "- Dictionary to go from the words to an id, we'll call `vocab_to_int`\n",
    "- Dictionary to go from the id to word, we'll call `int_to_vocab`\n",
    "\n",
    "Return these dictionaries in the following tuple `(vocab_to_int, int_to_vocab)`"
   ]
  },
  {
   "cell_type": "code",
   "execution_count": 3,
   "metadata": {},
   "outputs": [
    {
     "name": "stdout",
     "output_type": "stream",
     "text": [
      "Tests Passed\n"
     ]
    }
   ],
   "source": [
    "import numpy as np\n",
    "import problem_unittests as tests\n",
    "\n",
    "def create_lookup_tables(text):\n",
    "    \"\"\"\n",
    "    Create lookup tables for vocabulary\n",
    "    :param text: The text of tv scripts split into words\n",
    "    :return: A tuple of dicts (vocab_to_int, int_to_vocab)\n",
    "    \"\"\"\n",
    "    # TODO: Implement Function\n",
    "    \n",
    "    # Get set if unique words\n",
    "    \n",
    "    unique_words = set(text)\n",
    "    \n",
    "    # assign unique integer to each words\n",
    "    unique_int = range(len(unique_words))\n",
    "    \n",
    "    # Create word to int dictionary\n",
    "    vocab_to_int = dict(zip(unique_words, unique_int))\n",
    "    \n",
    "    # Create into to word dictionary\n",
    "    int_to_vocab = dict(zip(unique_int, unique_words))\n",
    "    \n",
    "    return vocab_to_int, int_to_vocab\n",
    "\n",
    "\n",
    "\"\"\"\n",
    "DON'T MODIFY ANYTHING IN THIS CELL THAT IS BELOW THIS LINE\n",
    "\"\"\"\n",
    "tests.test_create_lookup_tables(create_lookup_tables)"
   ]
  },
  {
   "cell_type": "markdown",
   "metadata": {},
   "source": [
    "### Tokenize Punctuation\n",
    "We'll be splitting the script into a word array using spaces as delimiters.  However, punctuations like periods and exclamation marks make it hard for the neural network to distinguish between the word \"bye\" and \"bye!\".\n",
    "\n",
    "Implement the function `token_lookup` to return a dict that will be used to tokenize symbols like \"!\" into \"||Exclamation_Mark||\".  Create a dictionary for the following symbols where the symbol is the key and value is the token:\n",
    "- Period ( . )\n",
    "- Comma ( , )\n",
    "- Quotation Mark ( \" )\n",
    "- Semicolon ( ; )\n",
    "- Exclamation mark ( ! )\n",
    "- Question mark ( ? )\n",
    "- Left Parentheses ( ( )\n",
    "- Right Parentheses ( ) )\n",
    "- Dash ( -- )\n",
    "- Return ( \\n )\n",
    "\n",
    "This dictionary will be used to token the symbols and add the delimiter (space) around it.  This separates the symbols as it's own word, making it easier for the neural network to predict on the next word. Make sure you don't use a token that could be confused as a word. Instead of using the token \"dash\", try using something like \"||dash||\"."
   ]
  },
  {
   "cell_type": "code",
   "execution_count": 4,
   "metadata": {},
   "outputs": [
    {
     "name": "stdout",
     "output_type": "stream",
     "text": [
      "Tests Passed\n"
     ]
    }
   ],
   "source": [
    "def token_lookup():\n",
    "    \"\"\"\n",
    "    Generate a dict to turn punctuation into a token.\n",
    "    :return: Tokenize dictionary where the key is the punctuation and the value is the token\n",
    "    \"\"\"\n",
    "    # TODO: Implement Function\n",
    "    \n",
    "    # Specify escape character to wrap punctuations\n",
    "    escape_char = \"||\"\n",
    "    \n",
    "    # Specify list of puctuations and corresponding word to represent it.\n",
    "    token_dict = {\n",
    "        \".\":\"{}period{}\".format(escape_char, escape_char),\n",
    "        \",\":\"{}comma{}\".format(escape_char, escape_char),\n",
    "        '\"':\"{}quotation{}\".format(escape_char, escape_char),\n",
    "        \";\":\"{}semicolon{}\".format(escape_char, escape_char),\n",
    "        \"!\":\"{}exclaimation{}\".format(escape_char, escape_char),\n",
    "        \"?\":\"{}question{}\".format(escape_char, escape_char),\n",
    "        \"(\":\"{}left_bracket{}\".format(escape_char, escape_char),\n",
    "        \")\":\"{}right_bracket{}\".format(escape_char, escape_char),\n",
    "        \"--\":\"{}dash{}\".format(escape_char, escape_char),\n",
    "        \"\\n\":\"{}return{}\".format(escape_char, escape_char)\n",
    "    }\n",
    "    \n",
    "    \n",
    "    return token_dict\n",
    "\n",
    "\"\"\"\n",
    "DON'T MODIFY ANYTHING IN THIS CELL THAT IS BELOW THIS LINE\n",
    "\"\"\"\n",
    "tests.test_tokenize(token_lookup)"
   ]
  },
  {
   "cell_type": "markdown",
   "metadata": {},
   "source": [
    "## Preprocess all the data and save it\n",
    "Running the code cell below will preprocess all the data and save it to file."
   ]
  },
  {
   "cell_type": "code",
   "execution_count": 5,
   "metadata": {
    "collapsed": true
   },
   "outputs": [],
   "source": [
    "\"\"\"\n",
    "DON'T MODIFY ANYTHING IN THIS CELL\n",
    "\"\"\"\n",
    "# Preprocess Training, Validation, and Testing Data\n",
    "helper.preprocess_and_save_data(data_dir, token_lookup, create_lookup_tables)"
   ]
  },
  {
   "cell_type": "markdown",
   "metadata": {},
   "source": [
    "# Check Point\n",
    "This is your first checkpoint. If you ever decide to come back to this notebook or have to restart the notebook, you can start from here. The preprocessed data has been saved to disk."
   ]
  },
  {
   "cell_type": "code",
   "execution_count": 6,
   "metadata": {
    "collapsed": true
   },
   "outputs": [],
   "source": [
    "\"\"\"\n",
    "DON'T MODIFY ANYTHING IN THIS CELL\n",
    "\"\"\"\n",
    "import helper\n",
    "import numpy as np\n",
    "import problem_unittests as tests\n",
    "\n",
    "int_text, vocab_to_int, int_to_vocab, token_dict = helper.load_preprocess()"
   ]
  },
  {
   "cell_type": "markdown",
   "metadata": {},
   "source": [
    "## Build the Neural Network\n",
    "You'll build the components necessary to build a RNN by implementing the following functions below:\n",
    "- get_inputs\n",
    "- get_init_cell\n",
    "- get_embed\n",
    "- build_rnn\n",
    "- build_nn\n",
    "- get_batches\n",
    "\n",
    "### Check the Version of TensorFlow and Access to GPU"
   ]
  },
  {
   "cell_type": "code",
   "execution_count": 7,
   "metadata": {},
   "outputs": [
    {
     "name": "stdout",
     "output_type": "stream",
     "text": [
      "TensorFlow Version: 1.0.1\n"
     ]
    },
    {
     "name": "stderr",
     "output_type": "stream",
     "text": [
      "/home/ritesh_malaiya/anaconda3/envs/p3/lib/python3.6/site-packages/ipykernel/__main__.py:14: UserWarning: No GPU found. Please use a GPU to train your neural network.\n"
     ]
    }
   ],
   "source": [
    "\"\"\"\n",
    "DON'T MODIFY ANYTHING IN THIS CELL\n",
    "\"\"\"\n",
    "from distutils.version import LooseVersion\n",
    "import warnings\n",
    "import tensorflow as tf\n",
    "\n",
    "# Check TensorFlow Version\n",
    "assert LooseVersion(tf.__version__) >= LooseVersion('1.0'), 'Please use TensorFlow version 1.0 or newer'\n",
    "print('TensorFlow Version: {}'.format(tf.__version__))\n",
    "\n",
    "# Check for a GPU\n",
    "if not tf.test.gpu_device_name():\n",
    "    warnings.warn('No GPU found. Please use a GPU to train your neural network.')\n",
    "else:\n",
    "    print('Default GPU Device: {}'.format(tf.test.gpu_device_name()))"
   ]
  },
  {
   "cell_type": "markdown",
   "metadata": {},
   "source": [
    "### Input\n",
    "Implement the `get_inputs()` function to create TF Placeholders for the Neural Network.  It should create the following placeholders:\n",
    "- Input text placeholder named \"input\" using the [TF Placeholder](https://www.tensorflow.org/api_docs/python/tf/placeholder) `name` parameter.\n",
    "- Targets placeholder\n",
    "- Learning Rate placeholder\n",
    "\n",
    "Return the placeholders in the following the tuple `(Input, Targets, LearingRate)`"
   ]
  },
  {
   "cell_type": "code",
   "execution_count": 8,
   "metadata": {},
   "outputs": [
    {
     "name": "stdout",
     "output_type": "stream",
     "text": [
      "Tests Passed\n"
     ]
    }
   ],
   "source": [
    "def get_inputs():\n",
    "    \"\"\"\n",
    "    Create TF Placeholders for input, targets, and learning rate.\n",
    "    :return: Tuple (input, targets, learning rate)\n",
    "    \"\"\"\n",
    "    # TODO: Implement Function\n",
    "    input = tf.placeholder(tf.int32, shape=[None, None], name='input')\n",
    "    targets = tf.placeholder(tf.int32, shape=[None, None], name='targets_placeholder')\n",
    "    learning_rate = tf.placeholder(tf.float32, name = 'learning_rate_placeholder')\n",
    "    return input, targets, learning_rate\n",
    "\n",
    "\n",
    "\"\"\"\n",
    "DON'T MODIFY ANYTHING IN THIS CELL THAT IS BELOW THIS LINE\n",
    "\"\"\"\n",
    "tests.test_get_inputs(get_inputs)"
   ]
  },
  {
   "cell_type": "markdown",
   "metadata": {},
   "source": [
    "### Build RNN Cell and Initialize\n",
    "Stack one or more [`BasicLSTMCells`](https://www.tensorflow.org/api_docs/python/tf/contrib/rnn/BasicLSTMCell) in a [`MultiRNNCell`](https://www.tensorflow.org/api_docs/python/tf/contrib/rnn/MultiRNNCell).\n",
    "- The Rnn size should be set using `rnn_size`\n",
    "- Initalize Cell State using the MultiRNNCell's [`zero_state()`](https://www.tensorflow.org/api_docs/python/tf/contrib/rnn/MultiRNNCell#zero_state) function\n",
    "    - Apply the name \"initial_state\" to the initial state using [`tf.identity()`](https://www.tensorflow.org/api_docs/python/tf/identity)\n",
    "\n",
    "Return the cell and initial state in the following tuple `(Cell, InitialState)`"
   ]
  },
  {
   "cell_type": "code",
   "execution_count": 9,
   "metadata": {},
   "outputs": [
    {
     "name": "stdout",
     "output_type": "stream",
     "text": [
      "Tests Passed\n"
     ]
    }
   ],
   "source": [
    "def get_init_cell(batch_size, rnn_size, num_layers =2, keep_prob = 0.6):\n",
    "    \"\"\"\n",
    "    Create an RNN Cell and initialize it.\n",
    "    :param batch_size: Size of batches\n",
    "    :param rnn_size: Size of RNNs\n",
    "    :return: Tuple (cell, initialize state)\n",
    "    \"\"\"\n",
    "    # TODO: Implement Function\n",
    "    \n",
    "    lstm = tf.contrib.rnn.BasicLSTMCell(rnn_size)\n",
    "    drop = tf.contrib.rnn.DropoutWrapper(lstm, output_keep_prob=keep_prob)\n",
    "\n",
    "    cell = tf.contrib.rnn.MultiRNNCell([drop] * num_layers)\n",
    "    initial_state = cell.zero_state(batch_size, tf.float32)\n",
    "    initial_state = tf.identity(initial_state,name=\"initial_state\")\n",
    "    return cell, initial_state\n",
    "\n",
    "\n",
    "\"\"\"\n",
    "DON'T MODIFY ANYTHING IN THIS CELL THAT IS BELOW THIS LINE\n",
    "\"\"\"\n",
    "tests.test_get_init_cell(get_init_cell)"
   ]
  },
  {
   "cell_type": "markdown",
   "metadata": {},
   "source": [
    "### Word Embedding\n",
    "Apply embedding to `input_data` using TensorFlow.  Return the embedded sequence."
   ]
  },
  {
   "cell_type": "code",
   "execution_count": 10,
   "metadata": {},
   "outputs": [
    {
     "name": "stdout",
     "output_type": "stream",
     "text": [
      "Tests Passed\n"
     ]
    }
   ],
   "source": [
    "def get_embed(input_data, vocab_size, embed_dim):\n",
    "    \"\"\"\n",
    "    Create embedding for <input_data>.\n",
    "    :param input_data: TF placeholder for text input.\n",
    "    :param vocab_size: Number of words in vocabulary.\n",
    "    :param embed_dim: Number of embedding dimensions\n",
    "    :return: Embedded input.\n",
    "    \"\"\"\n",
    "    # TODO: Implement Function\n",
    "    #embeddings = tf.Variable(tf.random_uniform([vocab_size, embed_dim], -1.0, 1.0))\n",
    "    #embed = tf.nn.embedding_lookup(embeddings, input_data)\n",
    "    embed = tf.contrib.layers.embed_sequence(input_data, vocab_size, embed_dim)\n",
    "    return embed\n",
    "\n",
    "\"\"\"\n",
    "DON'T MODIFY ANYTHING IN THIS CELL THAT IS BELOW THIS LINE\n",
    "\"\"\"\n",
    "tests.test_get_embed(get_embed)"
   ]
  },
  {
   "cell_type": "markdown",
   "metadata": {},
   "source": [
    "### Build RNN\n",
    "You created a RNN Cell in the `get_init_cell()` function.  Time to use the cell to create a RNN.\n",
    "- Build the RNN using the [`tf.nn.dynamic_rnn()`](https://www.tensorflow.org/api_docs/python/tf/nn/dynamic_rnn)\n",
    " - Apply the name \"final_state\" to the final state using [`tf.identity()`](https://www.tensorflow.org/api_docs/python/tf/identity)\n",
    "\n",
    "Return the outputs and final_state state in the following tuple `(Outputs, FinalState)` "
   ]
  },
  {
   "cell_type": "code",
   "execution_count": 11,
   "metadata": {},
   "outputs": [
    {
     "name": "stdout",
     "output_type": "stream",
     "text": [
      "Tests Passed\n"
     ]
    }
   ],
   "source": [
    "def build_rnn(cell, inputs):\n",
    "    \"\"\"\n",
    "    Create a RNN using a RNN Cell\n",
    "    :param cell: RNN Cell\n",
    "    :param inputs: Input text data\n",
    "    :return: Tuple (Outputs, Final State)\n",
    "    \"\"\"\n",
    "    # TODO: Implement Function\n",
    "    \n",
    "    outputs, state = tf.nn.dynamic_rnn(cell, inputs, dtype = tf.float32)\n",
    "    final_state = state\n",
    "    final_state = tf.identity(final_state, \"final_state\")\n",
    "    return outputs, final_state\n",
    "\n",
    "\n",
    "\"\"\"\n",
    "DON'T MODIFY ANYTHING IN THIS CELL THAT IS BELOW THIS LINE\n",
    "\"\"\"\n",
    "tests.test_build_rnn(build_rnn)"
   ]
  },
  {
   "cell_type": "markdown",
   "metadata": {},
   "source": [
    "### Build the Neural Network\n",
    "Apply the functions you implemented above to:\n",
    "- Apply embedding to `input_data` using your `get_embed(input_data, vocab_size, embed_dim)` function.\n",
    "- Build RNN using `cell` and your `build_rnn(cell, inputs)` function.\n",
    "- Apply a fully connected layer with a linear activation and `vocab_size` as the number of outputs.\n",
    "\n",
    "Return the logits and final state in the following tuple (Logits, FinalState) "
   ]
  },
  {
   "cell_type": "code",
   "execution_count": 12,
   "metadata": {},
   "outputs": [
    {
     "name": "stdout",
     "output_type": "stream",
     "text": [
      "Tests Passed\n"
     ]
    }
   ],
   "source": [
    "def build_nn(cell, rnn_size, input_data, vocab_size, embed_dim = 10):\n",
    "    \"\"\"\n",
    "    Build part of the neural network\n",
    "    :param cell: RNN cell\n",
    "    :param rnn_size: Size of rnns\n",
    "    :param input_data: Input data\n",
    "    :param vocab_size: Vocabulary size\n",
    "    :return: Tuple (Logits, FinalState)\n",
    "    \"\"\"\n",
    "    # TODO: Implement Function\n",
    "    \n",
    "    input_embed = get_embed(input_data, vocab_size,embed_dim)\n",
    "    outputs, final_state = build_rnn(cell, input_embed)\n",
    "    \n",
    "    outputs = tf.contrib.layers.fully_connected(outputs, vocab_size, activation_fn=None)\n",
    "    \n",
    "    return outputs, final_state\n",
    "\n",
    "\n",
    "\"\"\"\n",
    "DON'T MODIFY ANYTHING IN THIS CELL THAT IS BELOW THIS LINE\n",
    "\"\"\"\n",
    "tests.test_build_nn(build_nn)"
   ]
  },
  {
   "cell_type": "markdown",
   "metadata": {},
   "source": [
    "### Batches\n",
    "Implement `get_batches` to create batches of input and targets using `int_text`.  The batches should be a Numpy array with the shape `(number of batches, 2, batch size, sequence length)`. Each batch contains two elements:\n",
    "- The first element is a single batch of **input** with the shape `[batch size, sequence length]`\n",
    "- The second element is a single batch of **targets** with the shape `[batch size, sequence length]`\n",
    "\n",
    "If you can't fill the last batch with enough data, drop the last batch.\n",
    "\n",
    "For exmple, `get_batches([1, 2, 3, 4, 5, 6, 7, 8, 9, 10, 11, 12, 13, 14, 15], 2, 3)` would return a Numpy array of the following:\n",
    "```\n",
    "[\n",
    "  # First Batch\n",
    "  [\n",
    "    # Batch of Input\n",
    "    [[ 1  2  3], [ 7  8  9]],\n",
    "    # Batch of targets\n",
    "    [[ 2  3  4], [ 8  9 10]]\n",
    "  ],\n",
    " \n",
    "  # Second Batch\n",
    "  [\n",
    "    # Batch of Input\n",
    "    [[ 4  5  6], [10 11 12]],\n",
    "    # Batch of targets\n",
    "    [[ 5  6  7], [11 12 13]]\n",
    "  ]\n",
    "]\n",
    "```"
   ]
  },
  {
   "cell_type": "code",
   "execution_count": 22,
   "metadata": {
    "scrolled": false
   },
   "outputs": [
    {
     "name": "stdout",
     "output_type": "stream",
     "text": [
      "Tests Passed\n",
      "[[[[ 1  2  3]\n",
      "   [ 4  5  6]]\n",
      "\n",
      "  [[ 2  3  4]\n",
      "   [ 5  6  7]]]\n",
      "\n",
      "\n",
      " [[[ 7  8  9]\n",
      "   [10 11 12]]\n",
      "\n",
      "  [[ 8  9 10]\n",
      "   [11 12 13]]]]\n"
     ]
    }
   ],
   "source": [
    "def get_batches(int_text, batch_size, seq_length):\n",
    "    \"\"\"\n",
    "    Return batches of input and target\n",
    "    :param int_text: Text with the words replaced by their ids\n",
    "    :param batch_size: The size of batch\n",
    "    :param seq_length: The length of sequence\n",
    "    :return: Batches as a Numpy array\n",
    "    \"\"\"\n",
    "    # TODO: Implement Function\n",
    "    input_array = np.array(int_text[:-1])\n",
    "    target_array = np.array(int_text[1:])\n",
    "\n",
    "    unsplitable_count = input_array.shape[0] % seq_length\n",
    "    #from IPython.core.debugger import Tracer; Tracer()()\n",
    "    \n",
    "    data = np.concatenate((input_array[np.newaxis,:],\n",
    "                         target_array[np.newaxis,:]))\n",
    "    if (unsplitable_count != 0):\n",
    "        data = data[:,:-unsplitable_count]\n",
    "    data = np.reshape(data, [data.shape[0], -1, seq_length])\n",
    "    \n",
    "    unsplitable_count = data.shape[1] % batch_size\n",
    "    if (unsplitable_count != 0):\n",
    "        data = data[:,:-unsplitable_count,:]\n",
    "    \n",
    "    \n",
    "    batch_splits = int(data.shape[1] / batch_size)\n",
    "    \n",
    "    data = np.stack(np.split(data, batch_splits, axis = 1 ))\n",
    "    return data\n",
    "\n",
    "\n",
    "\"\"\"\n",
    "DON'T MODIFY ANYTHING IN THIS CELL THAT IS BELOW THIS LINE\n",
    "\"\"\"\n",
    "tests.test_get_batches(get_batches)\n",
    "print (get_batches([1, 2, 3, 4, 5, 6, 7, 8, 9, 10, 11, 12, 13, 14, 15], 2, 3))"
   ]
  },
  {
   "cell_type": "markdown",
   "metadata": {},
   "source": [
    "## Neural Network Training\n",
    "### Hyperparameters\n",
    "Tune the following parameters:\n",
    "\n",
    "- Set `num_epochs` to the number of epochs.\n",
    "- Set `batch_size` to the batch size.\n",
    "- Set `rnn_size` to the size of the RNNs.\n",
    "- Set `seq_length` to the length of sequence.\n",
    "- Set `learning_rate` to the learning rate.\n",
    "- Set `show_every_n_batches` to the number of batches the neural network should print progress."
   ]
  },
  {
   "cell_type": "code",
   "execution_count": 14,
   "metadata": {
    "collapsed": true
   },
   "outputs": [],
   "source": [
    "# Number of Epochs\n",
    "num_epochs = 400\n",
    "# Batch Size\n",
    "batch_size = 64 #32\n",
    "# RNN Size\n",
    "rnn_size = 256 #64\n",
    "# Sequence Length\n",
    "seq_length = 50 #16\n",
    "# Learning Rate\n",
    "learning_rate = 0.01 #0.03\n",
    "# Show stats for every n number of batches\n",
    "\n",
    "show_every_n_batches = 21\n",
    "\n",
    "\"\"\"\n",
    "DON'T MODIFY ANYTHING IN THIS CELL THAT IS BELOW THIS LINE\n",
    "\"\"\"\n",
    "save_dir = './save'"
   ]
  },
  {
   "cell_type": "markdown",
   "metadata": {},
   "source": [
    "### Build the Graph\n",
    "Build the graph using the neural network you implemented."
   ]
  },
  {
   "cell_type": "code",
   "execution_count": 15,
   "metadata": {
    "collapsed": true
   },
   "outputs": [],
   "source": [
    "\"\"\"\n",
    "DON'T MODIFY ANYTHING IN THIS CELL\n",
    "\"\"\"\n",
    "from tensorflow.contrib import seq2seq\n",
    "\n",
    "train_graph = tf.Graph()\n",
    "with train_graph.as_default():\n",
    "    vocab_size = len(int_to_vocab)\n",
    "    input_text, targets, lr = get_inputs()\n",
    "    input_data_shape = tf.shape(input_text)\n",
    "    cell, initial_state = get_init_cell(input_data_shape[0], rnn_size)\n",
    "    logits, final_state = build_nn(cell, rnn_size, input_text, vocab_size)\n",
    "\n",
    "    # Probabilities for generating words\n",
    "    probs = tf.nn.softmax(logits, name='probs')\n",
    "\n",
    "    # Loss function\n",
    "    cost = seq2seq.sequence_loss(\n",
    "        logits,\n",
    "        targets,\n",
    "        tf.ones([input_data_shape[0], input_data_shape[1]]))\n",
    "\n",
    "    # Optimizer\n",
    "    optimizer = tf.train.AdamOptimizer(lr)\n",
    "\n",
    "    # Gradient Clipping\n",
    "    gradients = optimizer.compute_gradients(cost)\n",
    "    capped_gradients = [(tf.clip_by_value(grad, -1., 1.), var) for grad, var in gradients]\n",
    "    train_op = optimizer.apply_gradients(capped_gradients)"
   ]
  },
  {
   "cell_type": "markdown",
   "metadata": {},
   "source": [
    "## Train\n",
    "Train the neural network on the preprocessed data.  If you have a hard time getting a good loss, check the [forms](https://discussions.udacity.com/) to see if anyone is having the same problem."
   ]
  },
  {
   "cell_type": "code",
   "execution_count": 16,
   "metadata": {
    "scrolled": false
   },
   "outputs": [
    {
     "name": "stdout",
     "output_type": "stream",
     "text": [
      "Epoch   0 Batch    0/21   train_loss = 8.822\n",
      "Epoch   1 Batch    0/21   train_loss = 6.717\n",
      "Epoch   2 Batch    0/21   train_loss = 6.275\n",
      "Epoch   3 Batch    0/21   train_loss = 6.282\n",
      "Epoch   4 Batch    0/21   train_loss = 6.206\n",
      "Epoch   5 Batch    0/21   train_loss = 6.101\n",
      "Epoch   6 Batch    0/21   train_loss = 5.999\n",
      "Epoch   7 Batch    0/21   train_loss = 5.940\n",
      "Epoch   8 Batch    0/21   train_loss = 5.840\n",
      "Epoch   9 Batch    0/21   train_loss = 5.781\n",
      "Epoch  10 Batch    0/21   train_loss = 5.705\n",
      "Epoch  11 Batch    0/21   train_loss = 5.658\n",
      "Epoch  12 Batch    0/21   train_loss = 5.556\n",
      "Epoch  13 Batch    0/21   train_loss = 5.557\n",
      "Epoch  14 Batch    0/21   train_loss = 5.446\n",
      "Epoch  15 Batch    0/21   train_loss = 5.402\n",
      "Epoch  16 Batch    0/21   train_loss = 5.369\n",
      "Epoch  17 Batch    0/21   train_loss = 5.292\n",
      "Epoch  18 Batch    0/21   train_loss = 5.265\n",
      "Epoch  19 Batch    0/21   train_loss = 5.188\n",
      "Epoch  20 Batch    0/21   train_loss = 5.151\n",
      "Epoch  21 Batch    0/21   train_loss = 5.060\n",
      "Epoch  22 Batch    0/21   train_loss = 5.011\n",
      "Epoch  23 Batch    0/21   train_loss = 4.938\n",
      "Epoch  24 Batch    0/21   train_loss = 4.889\n",
      "Epoch  25 Batch    0/21   train_loss = 4.802\n",
      "Epoch  26 Batch    0/21   train_loss = 4.761\n",
      "Epoch  27 Batch    0/21   train_loss = 4.709\n",
      "Epoch  28 Batch    0/21   train_loss = 4.656\n",
      "Epoch  29 Batch    0/21   train_loss = 4.562\n",
      "Epoch  30 Batch    0/21   train_loss = 4.503\n",
      "Epoch  31 Batch    0/21   train_loss = 4.411\n",
      "Epoch  32 Batch    0/21   train_loss = 4.358\n",
      "Epoch  33 Batch    0/21   train_loss = 4.285\n",
      "Epoch  34 Batch    0/21   train_loss = 4.250\n",
      "Epoch  35 Batch    0/21   train_loss = 4.194\n",
      "Epoch  36 Batch    0/21   train_loss = 4.140\n",
      "Epoch  37 Batch    0/21   train_loss = 4.116\n",
      "Epoch  38 Batch    0/21   train_loss = 4.052\n",
      "Epoch  39 Batch    0/21   train_loss = 3.997\n",
      "Epoch  40 Batch    0/21   train_loss = 3.937\n",
      "Epoch  41 Batch    0/21   train_loss = 3.873\n",
      "Epoch  42 Batch    0/21   train_loss = 3.851\n",
      "Epoch  43 Batch    0/21   train_loss = 3.829\n",
      "Epoch  44 Batch    0/21   train_loss = 3.799\n",
      "Epoch  45 Batch    0/21   train_loss = 3.719\n",
      "Epoch  46 Batch    0/21   train_loss = 3.716\n",
      "Epoch  47 Batch    0/21   train_loss = 3.697\n",
      "Epoch  48 Batch    0/21   train_loss = 3.649\n",
      "Epoch  49 Batch    0/21   train_loss = 3.621\n",
      "Epoch  50 Batch    0/21   train_loss = 3.564\n",
      "Epoch  51 Batch    0/21   train_loss = 3.505\n",
      "Epoch  52 Batch    0/21   train_loss = 3.479\n",
      "Epoch  53 Batch    0/21   train_loss = 3.469\n",
      "Epoch  54 Batch    0/21   train_loss = 3.466\n",
      "Epoch  55 Batch    0/21   train_loss = 3.433\n",
      "Epoch  56 Batch    0/21   train_loss = 3.394\n",
      "Epoch  57 Batch    0/21   train_loss = 3.377\n",
      "Epoch  58 Batch    0/21   train_loss = 3.339\n",
      "Epoch  59 Batch    0/21   train_loss = 3.319\n",
      "Epoch  60 Batch    0/21   train_loss = 3.334\n",
      "Epoch  61 Batch    0/21   train_loss = 3.291\n",
      "Epoch  62 Batch    0/21   train_loss = 3.263\n",
      "Epoch  63 Batch    0/21   train_loss = 3.228\n",
      "Epoch  64 Batch    0/21   train_loss = 3.209\n",
      "Epoch  65 Batch    0/21   train_loss = 3.171\n",
      "Epoch  66 Batch    0/21   train_loss = 3.168\n",
      "Epoch  67 Batch    0/21   train_loss = 3.137\n",
      "Epoch  68 Batch    0/21   train_loss = 3.127\n",
      "Epoch  69 Batch    0/21   train_loss = 3.088\n",
      "Epoch  70 Batch    0/21   train_loss = 3.082\n",
      "Epoch  71 Batch    0/21   train_loss = 3.077\n",
      "Epoch  72 Batch    0/21   train_loss = 3.062\n",
      "Epoch  73 Batch    0/21   train_loss = 3.038\n",
      "Epoch  74 Batch    0/21   train_loss = 3.002\n",
      "Epoch  75 Batch    0/21   train_loss = 2.961\n",
      "Epoch  76 Batch    0/21   train_loss = 2.990\n",
      "Epoch  77 Batch    0/21   train_loss = 2.953\n",
      "Epoch  78 Batch    0/21   train_loss = 2.954\n",
      "Epoch  79 Batch    0/21   train_loss = 2.944\n",
      "Epoch  80 Batch    0/21   train_loss = 2.953\n",
      "Epoch  81 Batch    0/21   train_loss = 2.944\n",
      "Epoch  82 Batch    0/21   train_loss = 2.875\n",
      "Epoch  83 Batch    0/21   train_loss = 2.861\n",
      "Epoch  84 Batch    0/21   train_loss = 2.856\n",
      "Epoch  85 Batch    0/21   train_loss = 2.836\n",
      "Epoch  86 Batch    0/21   train_loss = 2.811\n",
      "Epoch  87 Batch    0/21   train_loss = 2.803\n",
      "Epoch  88 Batch    0/21   train_loss = 2.823\n",
      "Epoch  89 Batch    0/21   train_loss = 2.826\n",
      "Epoch  90 Batch    0/21   train_loss = 2.842\n",
      "Epoch  91 Batch    0/21   train_loss = 2.798\n",
      "Epoch  92 Batch    0/21   train_loss = 2.800\n",
      "Epoch  93 Batch    0/21   train_loss = 2.768\n",
      "Epoch  94 Batch    0/21   train_loss = 2.789\n",
      "Epoch  95 Batch    0/21   train_loss = 2.767\n",
      "Epoch  96 Batch    0/21   train_loss = 2.751\n",
      "Epoch  97 Batch    0/21   train_loss = 2.720\n",
      "Epoch  98 Batch    0/21   train_loss = 2.687\n",
      "Epoch  99 Batch    0/21   train_loss = 2.723\n",
      "Epoch 100 Batch    0/21   train_loss = 2.664\n",
      "Epoch 101 Batch    0/21   train_loss = 2.670\n",
      "Epoch 102 Batch    0/21   train_loss = 2.665\n",
      "Epoch 103 Batch    0/21   train_loss = 2.674\n",
      "Epoch 104 Batch    0/21   train_loss = 2.677\n",
      "Epoch 105 Batch    0/21   train_loss = 2.636\n",
      "Epoch 106 Batch    0/21   train_loss = 2.629\n",
      "Epoch 107 Batch    0/21   train_loss = 2.609\n",
      "Epoch 108 Batch    0/21   train_loss = 2.614\n",
      "Epoch 109 Batch    0/21   train_loss = 2.597\n",
      "Epoch 110 Batch    0/21   train_loss = 2.584\n",
      "Epoch 111 Batch    0/21   train_loss = 2.573\n",
      "Epoch 112 Batch    0/21   train_loss = 2.574\n",
      "Epoch 113 Batch    0/21   train_loss = 2.554\n",
      "Epoch 114 Batch    0/21   train_loss = 2.579\n",
      "Epoch 115 Batch    0/21   train_loss = 2.570\n",
      "Epoch 116 Batch    0/21   train_loss = 2.507\n",
      "Epoch 117 Batch    0/21   train_loss = 2.514\n",
      "Epoch 118 Batch    0/21   train_loss = 2.520\n",
      "Epoch 119 Batch    0/21   train_loss = 2.524\n",
      "Epoch 120 Batch    0/21   train_loss = 2.547\n",
      "Epoch 121 Batch    0/21   train_loss = 2.493\n",
      "Epoch 122 Batch    0/21   train_loss = 2.528\n",
      "Epoch 123 Batch    0/21   train_loss = 2.490\n",
      "Epoch 124 Batch    0/21   train_loss = 2.514\n",
      "Epoch 125 Batch    0/21   train_loss = 2.514\n",
      "Epoch 126 Batch    0/21   train_loss = 2.497\n",
      "Epoch 127 Batch    0/21   train_loss = 2.478\n",
      "Epoch 128 Batch    0/21   train_loss = 2.471\n",
      "Epoch 129 Batch    0/21   train_loss = 2.459\n",
      "Epoch 130 Batch    0/21   train_loss = 2.472\n",
      "Epoch 131 Batch    0/21   train_loss = 2.449\n",
      "Epoch 132 Batch    0/21   train_loss = 2.430\n",
      "Epoch 133 Batch    0/21   train_loss = 2.443\n",
      "Epoch 134 Batch    0/21   train_loss = 2.416\n",
      "Epoch 135 Batch    0/21   train_loss = 2.446\n",
      "Epoch 136 Batch    0/21   train_loss = 2.430\n",
      "Epoch 137 Batch    0/21   train_loss = 2.413\n",
      "Epoch 138 Batch    0/21   train_loss = 2.442\n",
      "Epoch 139 Batch    0/21   train_loss = 2.431\n",
      "Epoch 140 Batch    0/21   train_loss = 2.400\n",
      "Epoch 141 Batch    0/21   train_loss = 2.418\n",
      "Epoch 142 Batch    0/21   train_loss = 2.369\n",
      "Epoch 143 Batch    0/21   train_loss = 2.411\n",
      "Epoch 144 Batch    0/21   train_loss = 2.386\n",
      "Epoch 145 Batch    0/21   train_loss = 2.386\n",
      "Epoch 146 Batch    0/21   train_loss = 2.399\n",
      "Epoch 147 Batch    0/21   train_loss = 2.355\n",
      "Epoch 148 Batch    0/21   train_loss = 2.390\n",
      "Epoch 149 Batch    0/21   train_loss = 2.359\n",
      "Epoch 150 Batch    0/21   train_loss = 2.384\n",
      "Epoch 151 Batch    0/21   train_loss = 2.364\n",
      "Epoch 152 Batch    0/21   train_loss = 2.372\n",
      "Epoch 153 Batch    0/21   train_loss = 2.366\n",
      "Epoch 154 Batch    0/21   train_loss = 2.364\n",
      "Epoch 155 Batch    0/21   train_loss = 2.351\n",
      "Epoch 156 Batch    0/21   train_loss = 2.345\n",
      "Epoch 157 Batch    0/21   train_loss = 2.327\n",
      "Epoch 158 Batch    0/21   train_loss = 2.294\n",
      "Epoch 159 Batch    0/21   train_loss = 2.269\n",
      "Epoch 160 Batch    0/21   train_loss = 2.305\n",
      "Epoch 161 Batch    0/21   train_loss = 2.313\n",
      "Epoch 162 Batch    0/21   train_loss = 2.321\n",
      "Epoch 163 Batch    0/21   train_loss = 2.298\n",
      "Epoch 164 Batch    0/21   train_loss = 2.284\n",
      "Epoch 165 Batch    0/21   train_loss = 2.318\n",
      "Epoch 166 Batch    0/21   train_loss = 2.307\n",
      "Epoch 167 Batch    0/21   train_loss = 2.286\n",
      "Epoch 168 Batch    0/21   train_loss = 2.262\n",
      "Epoch 169 Batch    0/21   train_loss = 2.256\n",
      "Epoch 170 Batch    0/21   train_loss = 2.298\n",
      "Epoch 171 Batch    0/21   train_loss = 2.218\n",
      "Epoch 172 Batch    0/21   train_loss = 2.276\n",
      "Epoch 173 Batch    0/21   train_loss = 2.242\n",
      "Epoch 174 Batch    0/21   train_loss = 2.235\n",
      "Epoch 175 Batch    0/21   train_loss = 2.260\n",
      "Epoch 176 Batch    0/21   train_loss = 2.226\n",
      "Epoch 177 Batch    0/21   train_loss = 2.243\n",
      "Epoch 178 Batch    0/21   train_loss = 2.190\n",
      "Epoch 179 Batch    0/21   train_loss = 2.189\n",
      "Epoch 180 Batch    0/21   train_loss = 2.192\n",
      "Epoch 181 Batch    0/21   train_loss = 2.184\n",
      "Epoch 182 Batch    0/21   train_loss = 2.217\n"
     ]
    },
    {
     "name": "stdout",
     "output_type": "stream",
     "text": [
      "Epoch 183 Batch    0/21   train_loss = 2.218\n",
      "Epoch 184 Batch    0/21   train_loss = 2.241\n",
      "Epoch 185 Batch    0/21   train_loss = 2.184\n",
      "Epoch 186 Batch    0/21   train_loss = 2.209\n",
      "Epoch 187 Batch    0/21   train_loss = 2.219\n",
      "Epoch 188 Batch    0/21   train_loss = 2.192\n",
      "Epoch 189 Batch    0/21   train_loss = 2.200\n",
      "Epoch 190 Batch    0/21   train_loss = 2.209\n",
      "Epoch 191 Batch    0/21   train_loss = 2.178\n",
      "Epoch 192 Batch    0/21   train_loss = 2.187\n",
      "Epoch 193 Batch    0/21   train_loss = 2.160\n",
      "Epoch 194 Batch    0/21   train_loss = 2.176\n",
      "Epoch 195 Batch    0/21   train_loss = 2.166\n",
      "Epoch 196 Batch    0/21   train_loss = 2.166\n",
      "Epoch 197 Batch    0/21   train_loss = 2.193\n",
      "Epoch 198 Batch    0/21   train_loss = 2.154\n",
      "Epoch 199 Batch    0/21   train_loss = 2.208\n",
      "Epoch 200 Batch    0/21   train_loss = 2.142\n",
      "Epoch 201 Batch    0/21   train_loss = 2.178\n",
      "Epoch 202 Batch    0/21   train_loss = 2.149\n",
      "Epoch 203 Batch    0/21   train_loss = 2.137\n",
      "Epoch 204 Batch    0/21   train_loss = 2.110\n",
      "Epoch 205 Batch    0/21   train_loss = 2.125\n",
      "Epoch 206 Batch    0/21   train_loss = 2.145\n",
      "Epoch 207 Batch    0/21   train_loss = 2.159\n",
      "Epoch 208 Batch    0/21   train_loss = 2.154\n",
      "Epoch 209 Batch    0/21   train_loss = 2.144\n",
      "Epoch 210 Batch    0/21   train_loss = 2.146\n",
      "Epoch 211 Batch    0/21   train_loss = 2.127\n",
      "Epoch 212 Batch    0/21   train_loss = 2.139\n",
      "Epoch 213 Batch    0/21   train_loss = 2.114\n",
      "Epoch 214 Batch    0/21   train_loss = 2.123\n",
      "Epoch 215 Batch    0/21   train_loss = 2.108\n",
      "Epoch 216 Batch    0/21   train_loss = 2.125\n",
      "Epoch 217 Batch    0/21   train_loss = 2.134\n",
      "Epoch 218 Batch    0/21   train_loss = 2.109\n",
      "Epoch 219 Batch    0/21   train_loss = 2.078\n",
      "Epoch 220 Batch    0/21   train_loss = 2.139\n",
      "Epoch 221 Batch    0/21   train_loss = 2.115\n",
      "Epoch 222 Batch    0/21   train_loss = 2.127\n",
      "Epoch 223 Batch    0/21   train_loss = 2.075\n",
      "Epoch 224 Batch    0/21   train_loss = 2.116\n",
      "Epoch 225 Batch    0/21   train_loss = 2.134\n",
      "Epoch 226 Batch    0/21   train_loss = 2.088\n",
      "Epoch 227 Batch    0/21   train_loss = 2.113\n",
      "Epoch 228 Batch    0/21   train_loss = 2.089\n",
      "Epoch 229 Batch    0/21   train_loss = 2.044\n",
      "Epoch 230 Batch    0/21   train_loss = 2.074\n",
      "Epoch 231 Batch    0/21   train_loss = 2.072\n",
      "Epoch 232 Batch    0/21   train_loss = 2.099\n",
      "Epoch 233 Batch    0/21   train_loss = 2.085\n",
      "Epoch 234 Batch    0/21   train_loss = 2.070\n",
      "Epoch 235 Batch    0/21   train_loss = 2.071\n",
      "Epoch 236 Batch    0/21   train_loss = 2.084\n",
      "Epoch 237 Batch    0/21   train_loss = 2.068\n",
      "Epoch 238 Batch    0/21   train_loss = 2.078\n",
      "Epoch 239 Batch    0/21   train_loss = 2.065\n",
      "Epoch 240 Batch    0/21   train_loss = 2.065\n",
      "Epoch 241 Batch    0/21   train_loss = 2.071\n",
      "Epoch 242 Batch    0/21   train_loss = 2.055\n",
      "Epoch 243 Batch    0/21   train_loss = 2.052\n",
      "Epoch 244 Batch    0/21   train_loss = 2.048\n",
      "Epoch 245 Batch    0/21   train_loss = 2.091\n",
      "Epoch 246 Batch    0/21   train_loss = 2.038\n",
      "Epoch 247 Batch    0/21   train_loss = 2.070\n",
      "Epoch 248 Batch    0/21   train_loss = 2.037\n",
      "Epoch 249 Batch    0/21   train_loss = 2.027\n",
      "Epoch 250 Batch    0/21   train_loss = 1.999\n",
      "Epoch 251 Batch    0/21   train_loss = 2.062\n",
      "Epoch 252 Batch    0/21   train_loss = 2.027\n",
      "Epoch 253 Batch    0/21   train_loss = 2.017\n",
      "Epoch 254 Batch    0/21   train_loss = 2.048\n",
      "Epoch 255 Batch    0/21   train_loss = 2.043\n",
      "Epoch 256 Batch    0/21   train_loss = 2.048\n",
      "Epoch 257 Batch    0/21   train_loss = 2.048\n",
      "Epoch 258 Batch    0/21   train_loss = 2.017\n",
      "Epoch 259 Batch    0/21   train_loss = 2.058\n",
      "Epoch 260 Batch    0/21   train_loss = 2.014\n",
      "Epoch 261 Batch    0/21   train_loss = 2.033\n",
      "Epoch 262 Batch    0/21   train_loss = 2.003\n",
      "Epoch 263 Batch    0/21   train_loss = 2.041\n",
      "Epoch 264 Batch    0/21   train_loss = 1.976\n",
      "Epoch 265 Batch    0/21   train_loss = 1.976\n",
      "Epoch 266 Batch    0/21   train_loss = 1.997\n",
      "Epoch 267 Batch    0/21   train_loss = 1.989\n",
      "Epoch 268 Batch    0/21   train_loss = 2.042\n",
      "Epoch 269 Batch    0/21   train_loss = 1.997\n",
      "Epoch 270 Batch    0/21   train_loss = 2.013\n",
      "Epoch 271 Batch    0/21   train_loss = 1.997\n",
      "Epoch 272 Batch    0/21   train_loss = 1.987\n",
      "Epoch 273 Batch    0/21   train_loss = 2.024\n",
      "Epoch 274 Batch    0/21   train_loss = 2.012\n",
      "Epoch 275 Batch    0/21   train_loss = 1.983\n",
      "Epoch 276 Batch    0/21   train_loss = 1.990\n",
      "Epoch 277 Batch    0/21   train_loss = 2.005\n",
      "Epoch 278 Batch    0/21   train_loss = 1.967\n",
      "Epoch 279 Batch    0/21   train_loss = 2.007\n",
      "Epoch 280 Batch    0/21   train_loss = 1.991\n",
      "Epoch 281 Batch    0/21   train_loss = 1.959\n",
      "Epoch 282 Batch    0/21   train_loss = 2.014\n",
      "Epoch 283 Batch    0/21   train_loss = 1.980\n",
      "Epoch 284 Batch    0/21   train_loss = 1.958\n",
      "Epoch 285 Batch    0/21   train_loss = 1.961\n",
      "Epoch 286 Batch    0/21   train_loss = 1.978\n",
      "Epoch 287 Batch    0/21   train_loss = 1.969\n",
      "Epoch 288 Batch    0/21   train_loss = 1.977\n",
      "Epoch 289 Batch    0/21   train_loss = 2.000\n",
      "Epoch 290 Batch    0/21   train_loss = 1.990\n",
      "Epoch 291 Batch    0/21   train_loss = 1.975\n",
      "Epoch 292 Batch    0/21   train_loss = 1.966\n",
      "Epoch 293 Batch    0/21   train_loss = 1.999\n",
      "Epoch 294 Batch    0/21   train_loss = 1.968\n",
      "Epoch 295 Batch    0/21   train_loss = 1.996\n",
      "Epoch 296 Batch    0/21   train_loss = 1.999\n",
      "Epoch 297 Batch    0/21   train_loss = 1.965\n",
      "Epoch 298 Batch    0/21   train_loss = 1.968\n",
      "Epoch 299 Batch    0/21   train_loss = 1.968\n",
      "Epoch 300 Batch    0/21   train_loss = 1.974\n",
      "Epoch 301 Batch    0/21   train_loss = 1.935\n",
      "Epoch 302 Batch    0/21   train_loss = 1.939\n",
      "Epoch 303 Batch    0/21   train_loss = 1.944\n",
      "Epoch 304 Batch    0/21   train_loss = 1.938\n",
      "Epoch 305 Batch    0/21   train_loss = 1.951\n",
      "Epoch 306 Batch    0/21   train_loss = 1.931\n",
      "Epoch 307 Batch    0/21   train_loss = 1.955\n",
      "Epoch 308 Batch    0/21   train_loss = 1.924\n",
      "Epoch 309 Batch    0/21   train_loss = 1.957\n",
      "Epoch 310 Batch    0/21   train_loss = 1.925\n",
      "Epoch 311 Batch    0/21   train_loss = 1.965\n",
      "Epoch 312 Batch    0/21   train_loss = 1.962\n",
      "Epoch 313 Batch    0/21   train_loss = 1.961\n",
      "Epoch 314 Batch    0/21   train_loss = 1.961\n",
      "Epoch 315 Batch    0/21   train_loss = 1.936\n",
      "Epoch 316 Batch    0/21   train_loss = 1.966\n",
      "Epoch 317 Batch    0/21   train_loss = 2.011\n",
      "Epoch 318 Batch    0/21   train_loss = 1.957\n",
      "Epoch 319 Batch    0/21   train_loss = 1.937\n",
      "Epoch 320 Batch    0/21   train_loss = 1.925\n",
      "Epoch 321 Batch    0/21   train_loss = 1.921\n",
      "Epoch 322 Batch    0/21   train_loss = 1.917\n",
      "Epoch 323 Batch    0/21   train_loss = 1.962\n",
      "Epoch 324 Batch    0/21   train_loss = 1.908\n",
      "Epoch 325 Batch    0/21   train_loss = 1.913\n",
      "Epoch 326 Batch    0/21   train_loss = 1.894\n",
      "Epoch 327 Batch    0/21   train_loss = 1.936\n",
      "Epoch 328 Batch    0/21   train_loss = 1.936\n",
      "Epoch 329 Batch    0/21   train_loss = 1.944\n",
      "Epoch 330 Batch    0/21   train_loss = 1.908\n",
      "Epoch 331 Batch    0/21   train_loss = 1.921\n",
      "Epoch 332 Batch    0/21   train_loss = 1.916\n",
      "Epoch 333 Batch    0/21   train_loss = 1.919\n",
      "Epoch 334 Batch    0/21   train_loss = 1.930\n",
      "Epoch 335 Batch    0/21   train_loss = 1.921\n",
      "Epoch 336 Batch    0/21   train_loss = 1.905\n",
      "Epoch 337 Batch    0/21   train_loss = 1.940\n",
      "Epoch 338 Batch    0/21   train_loss = 1.914\n",
      "Epoch 339 Batch    0/21   train_loss = 1.915\n",
      "Epoch 340 Batch    0/21   train_loss = 1.937\n",
      "Epoch 341 Batch    0/21   train_loss = 1.927\n",
      "Epoch 342 Batch    0/21   train_loss = 1.915\n",
      "Epoch 343 Batch    0/21   train_loss = 1.965\n",
      "Epoch 344 Batch    0/21   train_loss = 1.908\n",
      "Epoch 345 Batch    0/21   train_loss = 1.915\n",
      "Epoch 346 Batch    0/21   train_loss = 1.946\n",
      "Epoch 347 Batch    0/21   train_loss = 1.906\n",
      "Epoch 348 Batch    0/21   train_loss = 1.936\n",
      "Epoch 349 Batch    0/21   train_loss = 1.888\n",
      "Epoch 350 Batch    0/21   train_loss = 1.901\n",
      "Epoch 351 Batch    0/21   train_loss = 1.877\n",
      "Epoch 352 Batch    0/21   train_loss = 1.888\n",
      "Epoch 353 Batch    0/21   train_loss = 1.858\n",
      "Epoch 354 Batch    0/21   train_loss = 1.911\n",
      "Epoch 355 Batch    0/21   train_loss = 1.924\n",
      "Epoch 356 Batch    0/21   train_loss = 1.875\n",
      "Epoch 357 Batch    0/21   train_loss = 1.939\n",
      "Epoch 358 Batch    0/21   train_loss = 1.922\n",
      "Epoch 359 Batch    0/21   train_loss = 1.877\n",
      "Epoch 360 Batch    0/21   train_loss = 1.921\n",
      "Epoch 361 Batch    0/21   train_loss = 1.855\n",
      "Epoch 362 Batch    0/21   train_loss = 1.880\n",
      "Epoch 363 Batch    0/21   train_loss = 1.891\n",
      "Epoch 364 Batch    0/21   train_loss = 1.894\n",
      "Epoch 365 Batch    0/21   train_loss = 1.886\n"
     ]
    },
    {
     "name": "stdout",
     "output_type": "stream",
     "text": [
      "Epoch 366 Batch    0/21   train_loss = 1.891\n",
      "Epoch 367 Batch    0/21   train_loss = 1.904\n",
      "Epoch 368 Batch    0/21   train_loss = 1.891\n",
      "Epoch 369 Batch    0/21   train_loss = 1.898\n",
      "Epoch 370 Batch    0/21   train_loss = 1.908\n",
      "Epoch 371 Batch    0/21   train_loss = 1.882\n",
      "Epoch 372 Batch    0/21   train_loss = 1.854\n",
      "Epoch 373 Batch    0/21   train_loss = 1.901\n",
      "Epoch 374 Batch    0/21   train_loss = 1.847\n",
      "Epoch 375 Batch    0/21   train_loss = 1.893\n",
      "Epoch 376 Batch    0/21   train_loss = 1.868\n",
      "Epoch 377 Batch    0/21   train_loss = 1.881\n",
      "Epoch 378 Batch    0/21   train_loss = 1.893\n",
      "Epoch 379 Batch    0/21   train_loss = 1.918\n",
      "Epoch 380 Batch    0/21   train_loss = 1.896\n",
      "Epoch 381 Batch    0/21   train_loss = 1.891\n",
      "Epoch 382 Batch    0/21   train_loss = 1.897\n",
      "Epoch 383 Batch    0/21   train_loss = 1.837\n",
      "Epoch 384 Batch    0/21   train_loss = 1.877\n",
      "Epoch 385 Batch    0/21   train_loss = 1.885\n",
      "Epoch 386 Batch    0/21   train_loss = 1.864\n",
      "Epoch 387 Batch    0/21   train_loss = 1.862\n",
      "Epoch 388 Batch    0/21   train_loss = 1.845\n",
      "Epoch 389 Batch    0/21   train_loss = 1.880\n",
      "Epoch 390 Batch    0/21   train_loss = 1.908\n",
      "Epoch 391 Batch    0/21   train_loss = 1.860\n",
      "Epoch 392 Batch    0/21   train_loss = 1.871\n",
      "Epoch 393 Batch    0/21   train_loss = 1.839\n",
      "Epoch 394 Batch    0/21   train_loss = 1.885\n",
      "Epoch 395 Batch    0/21   train_loss = 1.884\n",
      "Epoch 396 Batch    0/21   train_loss = 1.820\n",
      "Epoch 397 Batch    0/21   train_loss = 1.859\n",
      "Epoch 398 Batch    0/21   train_loss = 1.871\n",
      "Epoch 399 Batch    0/21   train_loss = 1.897\n",
      "Model Trained and Saved\n"
     ]
    }
   ],
   "source": [
    "\"\"\"\n",
    "DON'T MODIFY ANYTHING IN THIS CELL\n",
    "\"\"\"\n",
    "batches = get_batches(int_text, batch_size, seq_length)\n",
    "\n",
    "with tf.Session(graph=train_graph) as sess:\n",
    "    sess.run(tf.global_variables_initializer())\n",
    "\n",
    "    for epoch_i in range(num_epochs):\n",
    "        state = sess.run(initial_state, {input_text: batches[0][0]})\n",
    "\n",
    "        for batch_i, (x, y) in enumerate(batches):\n",
    "            feed = {\n",
    "                input_text: x,\n",
    "                targets: y,\n",
    "                initial_state: state,\n",
    "                lr: learning_rate}\n",
    "            train_loss, state, _ = sess.run([cost, final_state, train_op], feed)\n",
    "\n",
    "            # Show every <show_every_n_batches> batches\n",
    "            if (epoch_i * len(batches) + batch_i) % show_every_n_batches == 0:\n",
    "                print('Epoch {:>3} Batch {:>4}/{}   train_loss = {:.3f}'.format(\n",
    "                    epoch_i,\n",
    "                    batch_i,\n",
    "                    len(batches),\n",
    "                    train_loss))\n",
    "\n",
    "    # Save Model\n",
    "    saver = tf.train.Saver()\n",
    "    saver.save(sess, save_dir)\n",
    "    print('Model Trained and Saved')"
   ]
  },
  {
   "cell_type": "markdown",
   "metadata": {},
   "source": [
    "## Save Parameters\n",
    "Save `seq_length` and `save_dir` for generating a new TV script."
   ]
  },
  {
   "cell_type": "code",
   "execution_count": 17,
   "metadata": {
    "collapsed": true
   },
   "outputs": [],
   "source": [
    "\"\"\"\n",
    "DON'T MODIFY ANYTHING IN THIS CELL\n",
    "\"\"\"\n",
    "# Save parameters for checkpoint\n",
    "helper.save_params((seq_length, save_dir))"
   ]
  },
  {
   "cell_type": "markdown",
   "metadata": {},
   "source": [
    "# Checkpoint"
   ]
  },
  {
   "cell_type": "code",
   "execution_count": 18,
   "metadata": {
    "collapsed": true
   },
   "outputs": [],
   "source": [
    "\"\"\"\n",
    "DON'T MODIFY ANYTHING IN THIS CELL\n",
    "\"\"\"\n",
    "import tensorflow as tf\n",
    "import numpy as np\n",
    "import helper\n",
    "import problem_unittests as tests\n",
    "\n",
    "_, vocab_to_int, int_to_vocab, token_dict = helper.load_preprocess()\n",
    "seq_length, load_dir = helper.load_params()"
   ]
  },
  {
   "cell_type": "markdown",
   "metadata": {},
   "source": [
    "## Implement Generate Functions\n",
    "### Get Tensors\n",
    "Get tensors from `loaded_graph` using the function [`get_tensor_by_name()`](https://www.tensorflow.org/api_docs/python/tf/Graph#get_tensor_by_name).  Get the tensors using the following names:\n",
    "- \"input:0\"\n",
    "- \"initial_state:0\"\n",
    "- \"final_state:0\"\n",
    "- \"probs:0\"\n",
    "\n",
    "Return the tensors in the following tuple `(InputTensor, InitialStateTensor, FinalStateTensor, ProbsTensor)` "
   ]
  },
  {
   "cell_type": "code",
   "execution_count": 19,
   "metadata": {},
   "outputs": [
    {
     "name": "stdout",
     "output_type": "stream",
     "text": [
      "Tests Passed\n"
     ]
    }
   ],
   "source": [
    "def get_tensors(loaded_graph):\n",
    "    \"\"\"\n",
    "    Get input, initial state, final state, and probabilities tensor from <loaded_graph>\n",
    "    :param loaded_graph: TensorFlow graph loaded from file\n",
    "    :return: Tuple (InputTensor, InitialStateTensor, FinalStateTensor, ProbsTensor)\n",
    "    \"\"\"\n",
    "    # TODO: Implement Function\n",
    "    input_tensor = loaded_graph.get_tensor_by_name(name = \"input:0\")\n",
    "    initial_state_tensor = loaded_graph.get_tensor_by_name(name = \"initial_state:0\")\n",
    "    final_state_tensor = loaded_graph.get_tensor_by_name(name = \"final_state:0\")\n",
    "    probs_tensor = loaded_graph.get_tensor_by_name(name = \"probs:0\")\n",
    "    \n",
    "    return input_tensor, initial_state_tensor, final_state_tensor, probs_tensor\n",
    "\n",
    "\n",
    "\"\"\"\n",
    "DON'T MODIFY ANYTHING IN THIS CELL THAT IS BELOW THIS LINE\n",
    "\"\"\"\n",
    "tests.test_get_tensors(get_tensors)"
   ]
  },
  {
   "cell_type": "markdown",
   "metadata": {},
   "source": [
    "### Choose Word\n",
    "Implement the `pick_word()` function to select the next word using `probabilities`."
   ]
  },
  {
   "cell_type": "code",
   "execution_count": 20,
   "metadata": {},
   "outputs": [
    {
     "name": "stdout",
     "output_type": "stream",
     "text": [
      "Tests Passed\n"
     ]
    }
   ],
   "source": [
    "def pick_word(probabilities, int_to_vocab):\n",
    "    \"\"\"\n",
    "    Pick the next word in the generated text\n",
    "    :param probabilities: Probabilites of the next word\n",
    "    :param int_to_vocab: Dictionary of word ids as the keys and words as the values\n",
    "    :return: String of the predicted word\n",
    "    \"\"\"\n",
    "    # TODO: Implement Function\n",
    "    \n",
    "    predicted_word = int_to_vocab[np.argmax(probabilities, axis = 0)]\n",
    "   \n",
    "    return predicted_word\n",
    "\n",
    "\n",
    "\"\"\"\n",
    "DON'T MODIFY ANYTHING IN THIS CELL THAT IS BELOW THIS LINE\n",
    "\"\"\"\n",
    "tests.test_pick_word(pick_word)"
   ]
  },
  {
   "cell_type": "markdown",
   "metadata": {},
   "source": [
    "## Generate TV Script\n",
    "This will generate the TV script for you.  Set `gen_length` to the length of TV script you want to generate."
   ]
  },
  {
   "cell_type": "code",
   "execution_count": 21,
   "metadata": {},
   "outputs": [
    {
     "name": "stdout",
     "output_type": "stream",
     "text": [
      "moe_szyslak: okay! you're little like me.\n",
      "moe_szyslak: whoa, whoa!\n",
      "moe_szyslak:(sobs) words hurt, let me, they're.\n",
      "moe_szyslak:(looking at hurt) oh, hey, check with me.\n",
      "moe_szyslak:(\" that voice) ech, i wish, i could be youse to get.\n",
      "moe_szyslak:(kindly) i can't, you give me the little.\n",
      "moe_szyslak:(into phone) now i don't never get my best uh... um...\n",
      "moe_szyslak:(eyes) moe, i have you get to kill that lookin' of three barf.\n",
      "moe_szyslak:(intrigued bell) i'll you think, you gotta hear so much, moe.\n",
      "homer_simpson:(real homer, proudly) i know that is you...(looking at tiny thing) hear, it's a guy. i got a rotten bucket.\n",
      "homer_simpson:(four guy) okay, homer, i hate a outside?\n",
      "moe_szyslak:(to homer) i have a mouth, i gotta do.(sighs)\n",
      "\n"
     ]
    }
   ],
   "source": [
    "gen_length = 200\n",
    "# homer_simpson, moe_szyslak, or Barney_Gumble\n",
    "prime_word = 'moe_szyslak'\n",
    "\n",
    "\"\"\"\n",
    "DON'T MODIFY ANYTHING IN THIS CELL THAT IS BELOW THIS LINE\n",
    "\"\"\"\n",
    "loaded_graph = tf.Graph()\n",
    "with tf.Session(graph=loaded_graph) as sess:\n",
    "    # Load saved model\n",
    "    loader = tf.train.import_meta_graph(load_dir + '.meta')\n",
    "    loader.restore(sess, load_dir)\n",
    "\n",
    "    # Get Tensors from loaded model\n",
    "    input_text, initial_state, final_state, probs = get_tensors(loaded_graph)\n",
    "\n",
    "    # Sentences generation setup\n",
    "    gen_sentences = [prime_word + ':']\n",
    "    prev_state = sess.run(initial_state, {input_text: np.array([[1]])})\n",
    "\n",
    "    # Generate sentences\n",
    "    for n in range(gen_length):\n",
    "        # Dynamic Input\n",
    "        dyn_input = [[vocab_to_int[word] for word in gen_sentences[-seq_length:]]]\n",
    "        dyn_seq_length = len(dyn_input[0])\n",
    "\n",
    "        # Get Prediction\n",
    "        probabilities, prev_state = sess.run(\n",
    "            [probs, final_state],\n",
    "            {input_text: dyn_input, initial_state: prev_state})\n",
    "        \n",
    "        pred_word = pick_word(probabilities[dyn_seq_length-1], int_to_vocab)\n",
    "\n",
    "        gen_sentences.append(pred_word)\n",
    "    \n",
    "    # Remove tokens\n",
    "    tv_script = ' '.join(gen_sentences)\n",
    "    for key, token in token_dict.items():\n",
    "        ending = ' ' if key in ['\\n', '(', '\"'] else ''\n",
    "        tv_script = tv_script.replace(' ' + token.lower(), key)\n",
    "    tv_script = tv_script.replace('\\n ', '\\n')\n",
    "    tv_script = tv_script.replace('( ', '(')\n",
    "        \n",
    "    print(tv_script)"
   ]
  },
  {
   "cell_type": "markdown",
   "metadata": {},
   "source": [
    "# The TV Script is Nonsensical\n",
    "It's ok if the TV script doesn't make any sense.  We trained on less than a megabyte of text.  In order to get good results, you'll have to use a smaller vocabulary or get more data.  Luckly there's more data!  As we mentioned in the begging of this project, this is a subset of [another dataset](https://www.kaggle.com/wcukierski/the-simpsons-by-the-data).  We didn't have you train on all the data, because that would take too long.  However, you are free to train your neural network on all the data.  After you complete the project, of course.\n",
    "# Submitting This Project\n",
    "When submitting this project, make sure to run all the cells before saving the notebook. Save the notebook file as \"dlnd_tv_script_generation.ipynb\" and save it as a HTML file under \"File\" -> \"Download as\". Include the \"helper.py\" and \"problem_unittests.py\" files in your submission."
   ]
  },
  {
   "cell_type": "code",
   "execution_count": null,
   "metadata": {
    "collapsed": true
   },
   "outputs": [],
   "source": []
  },
  {
   "cell_type": "markdown",
   "metadata": {
    "collapsed": true
   },
   "source": [
    "## "
   ]
  }
 ],
 "metadata": {
  "_draft": {
   "nbviewer_url": "https://gist.github.com/cfda0b1e7c8df162635e3af3ae618b80"
  },
  "anaconda-cloud": {},
  "gist": {
   "data": {
    "description": "my_projects/deep-learning/tv-script-generation/dlnd_tv_script_generation.ipynb",
    "public": false
   },
   "id": "cfda0b1e7c8df162635e3af3ae618b80"
  },
  "kernelspec": {
   "display_name": "Python [conda env:p3]",
   "language": "python",
   "name": "conda-env-p3-py"
  },
  "language_info": {
   "codemirror_mode": {
    "name": "ipython",
    "version": 3
   },
   "file_extension": ".py",
   "mimetype": "text/x-python",
   "name": "python",
   "nbconvert_exporter": "python",
   "pygments_lexer": "ipython3",
   "version": "3.6.0"
  },
  "widgets": {
   "state": {},
   "version": "1.1.2"
  }
 },
 "nbformat": 4,
 "nbformat_minor": 1
}
