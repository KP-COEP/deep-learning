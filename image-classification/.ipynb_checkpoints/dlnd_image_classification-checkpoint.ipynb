{
 "cells": [
  {
   "cell_type": "markdown",
   "metadata": {
    "collapsed": true
   },
   "source": [
    "# Image Classification\n",
    "In this project, you'll classify images from the [CIFAR-10 dataset](https://www.cs.toronto.edu/~kriz/cifar.html).  The dataset consists of airplanes, dogs, cats, and other objects. You'll preprocess the images, then train a convolutional neural network on all the samples. The images need to be normalized and the labels need to be one-hot encoded.  You'll get to apply what you learned and build a convolutional, max pooling, dropout, and fully connected layers.  At the end, you'll get to see your neural network's predictions on the sample images.\n",
    "## Get the Data\n",
    "Run the following cell to download the [CIFAR-10 dataset for python](https://www.cs.toronto.edu/~kriz/cifar-10-python.tar.gz)."
   ]
  },
  {
   "cell_type": "code",
   "execution_count": 1,
   "metadata": {
    "collapsed": false
   },
   "outputs": [
    {
     "name": "stdout",
     "output_type": "stream",
     "text": [
      "All files found!\n"
     ]
    }
   ],
   "source": [
    "\"\"\"\n",
    "DON'T MODIFY ANYTHING IN THIS CELL THAT IS BELOW THIS LINE\n",
    "\"\"\"\n",
    "from urllib.request import urlretrieve\n",
    "from os.path import isfile, isdir\n",
    "from tqdm import tqdm\n",
    "import problem_unittests as tests\n",
    "import tarfile\n",
    "\n",
    "cifar10_dataset_folder_path = 'cifar-10-batches-py'\n",
    "\n",
    "class DLProgress(tqdm):\n",
    "    last_block = 0\n",
    "\n",
    "    def hook(self, block_num=1, block_size=1, total_size=None):\n",
    "        self.total = total_size\n",
    "        self.update((block_num - self.last_block) * block_size)\n",
    "        self.last_block = block_num\n",
    "\n",
    "if not isfile('cifar-10-python.tar.gz'):\n",
    "    with DLProgress(unit='B', unit_scale=True, miniters=1, desc='CIFAR-10 Dataset') as pbar:\n",
    "        urlretrieve(\n",
    "            'https://www.cs.toronto.edu/~kriz/cifar-10-python.tar.gz',\n",
    "            'cifar-10-python.tar.gz',\n",
    "            pbar.hook)\n",
    "\n",
    "if not isdir(cifar10_dataset_folder_path):\n",
    "    with tarfile.open('cifar-10-python.tar.gz') as tar:\n",
    "        tar.extractall()\n",
    "        tar.close()\n",
    "\n",
    "\n",
    "tests.test_folder_path(cifar10_dataset_folder_path)"
   ]
  },
  {
   "cell_type": "markdown",
   "metadata": {},
   "source": [
    "## Explore the Data\n",
    "The dataset is broken into batches to prevent your machine from running out of memory.  The CIFAR-10 dataset consists of 5 batches, named `data_batch_1`, `data_batch_2`, etc.. Each batch contains the labels and images that are one of the following:\n",
    "* airplane\n",
    "* automobile\n",
    "* bird\n",
    "* cat\n",
    "* deer\n",
    "* dog\n",
    "* frog\n",
    "* horse\n",
    "* ship\n",
    "* truck\n",
    "\n",
    "Understanding a dataset is part of making predictions on the data.  Play around with the code cell below by changing the `batch_id` and `sample_id`. The `batch_id` is the id for a batch (1-5). The `sample_id` is the id for a image and label pair in the batch.\n",
    "\n",
    "Ask yourself \"What are all possible labels?\", \"What is the range of values for the image data?\", \"Are the labels in order or random?\".  Answers to questions like these will help you preprocess the data and end up with better predictions."
   ]
  },
  {
   "cell_type": "code",
   "execution_count": 2,
   "metadata": {
    "collapsed": false
   },
   "outputs": [
    {
     "name": "stdout",
     "output_type": "stream",
     "text": [
      "\n",
      "Stats of batch 3:\n",
      "Samples: 10000\n",
      "Label Counts: {0: 994, 1: 1042, 2: 965, 3: 997, 4: 990, 5: 1029, 6: 978, 7: 1015, 8: 961, 9: 1029}\n",
      "First 20 Labels: [8, 5, 0, 6, 9, 2, 8, 3, 6, 2, 7, 4, 6, 9, 0, 0, 7, 3, 7, 2]\n",
      "\n",
      "Example of Image 34:\n",
      "Image - Min Value: 0 Max Value: 195\n",
      "Image - Shape: (32, 32, 3)\n",
      "Label - Label Id: 3 Name: cat\n",
      "\n",
      "Stats of batch 2:\n",
      "Samples: 10000\n",
      "Label Counts: {0: 984, 1: 1007, 2: 1010, 3: 995, 4: 1010, 5: 988, 6: 1008, 7: 1026, 8: 987, 9: 985}\n",
      "First 20 Labels: [1, 6, 6, 8, 8, 3, 4, 6, 0, 6, 0, 3, 6, 6, 5, 4, 8, 3, 2, 6]\n",
      "\n",
      "Example of Image 1:\n",
      "Image - Min Value: 2 Max Value: 247\n",
      "Image - Shape: (32, 32, 3)\n",
      "Label - Label Id: 6 Name: frog\n",
      "\n",
      "Stats of batch 3:\n",
      "Samples: 10000\n",
      "Label Counts: {0: 994, 1: 1042, 2: 965, 3: 997, 4: 990, 5: 1029, 6: 978, 7: 1015, 8: 961, 9: 1029}\n",
      "First 20 Labels: [8, 5, 0, 6, 9, 2, 8, 3, 6, 2, 7, 4, 6, 9, 0, 0, 7, 3, 7, 2]\n",
      "\n",
      "Example of Image 28:\n",
      "Image - Min Value: 0 Max Value: 255\n",
      "Image - Shape: (32, 32, 3)\n",
      "Label - Label Id: 7 Name: horse\n"
     ]
    },
    {
     "data": {
      "image/png": "[encoded data removed]",
      "text/plain": [
       "<matplotlib.figure.Figure at 0x7fa84b95a908>"
      ]
     },
     "metadata": {
      "image/png": {
       "height": 252,
       "width": 380
      }
     },
     "output_type": "display_data"
    },
    {
     "data": {
      "image/png": "[encoded data removed]",
      "text/plain": [
       "<matplotlib.figure.Figure at 0x7fa844bed7b8>"
      ]
     },
     "metadata": {
      "image/png": {
       "height": 252,
       "width": 380
      }
     },
     "output_type": "display_data"
    },
    {
     "data": {
      "image/png": "[encoded data removed]",
      "text/plain": [
       "<matplotlib.figure.Figure at 0x7fa8446cb898>"
      ]
     },
     "metadata": {
      "image/png": {
       "height": 252,
       "width": 380
      }
     },
     "output_type": "display_data"
    }
   ],
   "source": [
    "%matplotlib inline\n",
    "%config InlineBackend.figure_format = 'retina'\n",
    "\n",
    "import helper\n",
    "import numpy as np\n",
    "\n",
    "for i, j in zip(np.random.randint(low = 1, high = 6, size = 3), np.random.randint(low = 1,high = 100,size = 3)):\n",
    "    # Explore the dataset\n",
    "    batch_id = i # choose between 1-5\n",
    "    sample_id = j\n",
    "    helper.display_stats(cifar10_dataset_folder_path, batch_id, sample_id)"
   ]
  },
  {
   "cell_type": "markdown",
   "metadata": {},
   "source": [
    "## Implement Preprocess Functions\n",
    "### Normalize\n",
    "In the cell below, implement the `normalize` function to take in image data, `x`, and return it as a normalized Numpy array. The values should be in the range of 0 to 1, inclusive.  The return object should be the same shape as `x`."
   ]
  },
  {
   "cell_type": "code",
   "execution_count": 3,
   "metadata": {
    "collapsed": false
   },
   "outputs": [
    {
     "name": "stdout",
     "output_type": "stream",
     "text": [
      "Tests Passed\n"
     ]
    },
    {
     "name": "stderr",
     "output_type": "stream",
     "text": [
      "/home/ritesh_malaiya/anaconda3/envs/tf/lib/python3.5/site-packages/sklearn/utils/validation.py:429: DataConversionWarning: Data with input dtype int64 was converted to float64 by the normalize function.\n",
      "  warnings.warn(msg, _DataConversionWarning)\n"
     ]
    }
   ],
   "source": [
    "from sklearn.preprocessing import Normalizer \n",
    "def normalize(x):\n",
    "    \"\"\"\n",
    "    Normalize a list of sample image data in the range of 0 to 1\n",
    "    : x: List of image data.  The image shape is (32, 32, 3)\n",
    "    : return: Numpy array of normalize data\n",
    "    \"\"\"\n",
    "    # TODO: Implement Function\n",
    "    nm = Normalizer()\n",
    "    x_norm = nm.fit_transform(x.reshape(-1,2)).reshape(-1,32,32,3)\n",
    "    \n",
    "    return x_norm\n",
    "\n",
    "\n",
    "\"\"\"\n",
    "DON'T MODIFY ANYTHING IN THIS CELL THAT IS BELOW THIS LINE\n",
    "\"\"\"\n",
    "tests.test_normalize(normalize)"
   ]
  },
  {
   "cell_type": "markdown",
   "metadata": {},
   "source": [
    "### One-hot encode\n",
    "Just like the previous code cell, you'll be implementing a function for preprocessing.  This time, you'll implement the `one_hot_encode` function. The input, `x`, are a list of labels.  Implement the function to return the list of labels as One-Hot encoded Numpy array.  The possible values for labels are 0 to 9. The one-hot encoding function should return the same encoding for each value between each call to `one_hot_encode`.  Make sure to save the map of encodings outside the function.\n",
    "\n",
    "Hint: Don't reinvent the wheel."
   ]
  },
  {
   "cell_type": "code",
   "execution_count": 4,
   "metadata": {
    "collapsed": false
   },
   "outputs": [
    {
     "name": "stdout",
     "output_type": "stream",
     "text": [
      "Tests Passed\n"
     ]
    }
   ],
   "source": [
    "from sklearn.preprocessing import OneHotEncoder\n",
    "enc = OneHotEncoder(10)\n",
    "\n",
    "def one_hot_encode(x):\n",
    "    \"\"\"\n",
    "    One hot encode a list of sample labels. Return a one-hot encoded vector for each label.\n",
    "    : x: List of sample Labels\n",
    "    : return: Numpy array of one-hot encoded labels\n",
    "    \"\"\"\n",
    "    # TODO: Implement Function\n",
    "    x = np.array(x)\n",
    "    x_ohe = enc.fit_transform(x.reshape(-1,1)).toarray()\n",
    "    return x_ohe\n",
    "\n",
    "\n",
    "\"\"\"\n",
    "DON'T MODIFY ANYTHING IN THIS CELL THAT IS BELOW THIS LINE\n",
    "\"\"\"\n",
    "tests.test_one_hot_encode(one_hot_encode)"
   ]
  },
  {
   "cell_type": "markdown",
   "metadata": {},
   "source": [
    "### Randomize Data\n",
    "As you saw from exploring the data above, the order of the samples are randomized.  It doesn't hurt to randomize it again, but you don't need to for this dataset."
   ]
  },
  {
   "cell_type": "markdown",
   "metadata": {},
   "source": [
    "## Preprocess all the data and save it\n",
    "Running the code cell below will preprocess all the CIFAR-10 data and save it to file. The code below also uses 10% of the training data for validation."
   ]
  },
  {
   "cell_type": "code",
   "execution_count": 5,
   "metadata": {
    "collapsed": false
   },
   "outputs": [
    {
     "name": "stderr",
     "output_type": "stream",
     "text": [
      "/home/ritesh_malaiya/anaconda3/envs/tf/lib/python3.5/site-packages/sklearn/utils/validation.py:429: DataConversionWarning: Data with input dtype uint8 was converted to float64 by the normalize function.\n",
      "  warnings.warn(msg, _DataConversionWarning)\n"
     ]
    }
   ],
   "source": [
    "\"\"\"\n",
    "DON'T MODIFY ANYTHING IN THIS CELL\n",
    "\"\"\"\n",
    "# Preprocess Training, Validation, and Testing Data\n",
    "helper.preprocess_and_save_data(cifar10_dataset_folder_path, normalize, one_hot_encode)"
   ]
  },
  {
   "cell_type": "markdown",
   "metadata": {},
   "source": [
    "# Check Point\n",
    "This is your first checkpoint.  If you ever decide to come back to this notebook or have to restart the notebook, you can start from here.  The preprocessed data has been saved to disk."
   ]
  },
  {
   "cell_type": "code",
   "execution_count": 6,
   "metadata": {
    "collapsed": true
   },
   "outputs": [],
   "source": [
    "\"\"\"\n",
    "DON'T MODIFY ANYTHING IN THIS CELL\n",
    "\"\"\"\n",
    "import pickle\n",
    "import problem_unittests as tests\n",
    "import helper\n",
    "\n",
    "# Load the Preprocessed Validation data\n",
    "valid_features, valid_labels = pickle.load(open('preprocess_validation.p', mode='rb'))"
   ]
  },
  {
   "cell_type": "markdown",
   "metadata": {},
   "source": [
    "## Build the network\n",
    "For the neural network, you'll build each layer into a function.  Most of the code you've seen has been outside of functions. To test your code more thoroughly, we require that you put each layer in a function.  This allows us to give you better feedback and test for simple mistakes using our unittests before you submit your project.\n",
    "\n",
    "If you're finding it hard to dedicate enough time for this course a week, we've provided a small shortcut to this part of the project. In the next couple of problems, you'll have the option to use [TensorFlow Layers](https://www.tensorflow.org/api_docs/python/tf/layers) or [TensorFlow Layers (contrib)](https://www.tensorflow.org/api_guides/python/contrib.layers) to build each layer, except \"Convolutional & Max Pooling\" layer.  TF Layers is similar to Keras's and TFLearn's abstraction to layers, so it's easy to pickup.\n",
    "\n",
    "If you would like to get the most of this course, try to solve all the problems without TF Layers.  Let's begin!\n",
    "### Input\n",
    "The neural network needs to read the image data, one-hot encoded labels, and dropout keep probability. Implement the following functions\n",
    "* Implement `neural_net_image_input`\n",
    " * Return a [TF Placeholder](https://www.tensorflow.org/api_docs/python/tf/placeholder)\n",
    " * Set the shape using `image_shape` with batch size set to `None`.\n",
    " * Name the TensorFlow placeholder \"x\" using the TensorFlow `name` parameter in the [TF Placeholder](https://www.tensorflow.org/api_docs/python/tf/placeholder).\n",
    "* Implement `neural_net_label_input`\n",
    " * Return a [TF Placeholder](https://www.tensorflow.org/api_docs/python/tf/placeholder)\n",
    " * Set the shape using `n_classes` with batch size set to `None`.\n",
    " * Name the TensorFlow placeholder \"y\" using the TensorFlow `name` parameter in the [TF Placeholder](https://www.tensorflow.org/api_docs/python/tf/placeholder).\n",
    "* Implement `neural_net_keep_prob_input`\n",
    " * Return a [TF Placeholder](https://www.tensorflow.org/api_docs/python/tf/placeholder) for dropout keep probability.\n",
    " * Name the TensorFlow placeholder \"keep_prob\" using the TensorFlow `name` parameter in the [TF Placeholder](https://www.tensorflow.org/api_docs/python/tf/placeholder).\n",
    "\n",
    "These names will be used at the end of the project to load your saved model.\n",
    "\n",
    "Note: `None` for shapes in TensorFlow allow for a dynamic size."
   ]
  },
  {
   "cell_type": "code",
   "execution_count": 7,
   "metadata": {
    "code_folding": [
     2
    ],
    "collapsed": false
   },
   "outputs": [
    {
     "name": "stdout",
     "output_type": "stream",
     "text": [
      "Image Input Tests Passed.\n",
      "Label Input Tests Passed.\n",
      "Keep Prob Tests Passed.\n"
     ]
    }
   ],
   "source": [
    "import tensorflow as tf\n",
    "\n",
    "def neural_net_image_input(image_shape):\n",
    "    \"\"\"\n",
    "    Return a Tensor for a bach of image input\n",
    "    : image_shape: Shape of the images\n",
    "    : return: Tensor for image input.\n",
    "    \"\"\"\n",
    "    # TODO: Implement Function\n",
    "    return tf.placeholder(tf.float32, shape=(None,) + image_shape, name = 'x')\n",
    "\n",
    "\n",
    "def neural_net_label_input(n_classes):\n",
    "    \"\"\"\n",
    "    Return a Tensor for a batch of label input\n",
    "    : n_classes: Number of classes\n",
    "    : return: Tensor for label input.\n",
    "    \"\"\"\n",
    "    # TODO: Implement Function\n",
    "    return tf.placeholder(tf.float32, shape=(None,) + (n_classes,), name = 'y')\n",
    "\n",
    "\n",
    "def neural_net_keep_prob_input():\n",
    "    \"\"\"\n",
    "    Return a Tensor for keep probability\n",
    "    : return: Tensor for keep probability.\n",
    "    \"\"\"\n",
    "    # TODO: Implement Function\n",
    "    return tf.placeholder(tf.float32, name = 'keep_prob')\n",
    "\n",
    "\n",
    "\"\"\"\n",
    "DON'T MODIFY ANYTHING IN THIS CELL THAT IS BELOW THIS LINE\n",
    "\"\"\"\n",
    "tf.reset_default_graph()\n",
    "tests.test_nn_image_inputs(neural_net_image_input)\n",
    "tests.test_nn_label_inputs(neural_net_label_input)\n",
    "tests.test_nn_keep_prob_inputs(neural_net_keep_prob_input)"
   ]
  },
  {
   "cell_type": "markdown",
   "metadata": {},
   "source": [
    "### Convolution and Max Pooling Layer\n",
    "Convolution layers have a lot of success with images. For this code cell, you should implement the function `conv2d_maxpool` to apply convolution then max pooling:\n",
    "* Create the weight and bias using `conv_ksize`, `conv_num_outputs` and the shape of `x_tensor`.\n",
    "* Apply a convolution to `x_tensor` using weight and `conv_strides`.\n",
    " * We recommend you use same padding, but you're welcome to use any padding.\n",
    "* Add bias\n",
    "* Add a nonlinear activation to the convolution.\n",
    "* Apply Max Pooling using `pool_ksize` and `pool_strides`.\n",
    " * We recommend you use same padding, but you're welcome to use any padding.\n",
    "\n",
    "Note: You **can't** use [TensorFlow Layers](https://www.tensorflow.org/api_docs/python/tf/layers) or [TensorFlow Layers (contrib)](https://www.tensorflow.org/api_guides/python/contrib.layers) for this layer.  You're free to use any TensorFlow package for all the other layers."
   ]
  },
  {
   "cell_type": "code",
   "execution_count": 8,
   "metadata": {
    "code_folding": [],
    "collapsed": false
   },
   "outputs": [
    {
     "name": "stdout",
     "output_type": "stream",
     "text": [
      "Tests Passed\n"
     ]
    }
   ],
   "source": [
    "def conv2d_maxpool(x_tensor, conv_num_outputs, conv_ksize, conv_strides, pool_ksize, pool_strides):\n",
    "    \"\"\"\n",
    "    Apply convolution then max pooling to x_tensor\n",
    "    :param x_tensor: TensorFlow Tensor\n",
    "    :param conv_ksize: kernal size for convolution\n",
    "    :param conv_num_outputs: Number of outputs for the convolutional layer\n",
    "    :param conv_strides: Stride 2-D Tuple for convolution\n",
    "    :param pool_ksize: kernal size 2-D Tuple for pool\n",
    "    :param pool_strides: Stride 2-D Tuple for pool\n",
    "    : return: A tensor that represents convolution and max pooling of x_tensor\n",
    "    \"\"\"\n",
    "    # TODO: Implement Function\n",
    "    w = tf.Variable(initial_value = tf.truncated_normal(dtype = tf.float32, shape=(*conv_ksize, x_tensor.get_shape()[3].value,conv_num_outputs)))\n",
    "    b = tf.Variable(tf.zeros(shape=conv_num_outputs))\n",
    "    conv2d = tf.nn.conv2d(input = x_tensor, filter = w, strides = (1, *conv_strides,1), padding = 'SAME') + b\n",
    "    conv2d_pool = tf.nn.max_pool(value = conv2d, ksize = (1, *pool_ksize, 1), strides = (1, *pool_strides, 1), padding = 'SAME')  \n",
    "    return conv2d_pool \n",
    "\n",
    "\n",
    "\"\"\"\n",
    "DON'T MODIFY ANYTHING IN THIS CELL THAT IS BELOW THIS LINE\n",
    "\"\"\"\n",
    "tests.test_con_pool(conv2d_maxpool)"
   ]
  },
  {
   "cell_type": "markdown",
   "metadata": {},
   "source": [
    "### Flatten Layer\n",
    "Implement the `flatten` function to change the dimension of `x_tensor` from a 4-D tensor to a 2-D tensor.  The output should be the shape (*Batch Size*, *Flattened Image Size*). You can use [TensorFlow Layers](https://www.tensorflow.org/api_docs/python/tf/layers) or [TensorFlow Layers (contrib)](https://www.tensorflow.org/api_guides/python/contrib.layers) for this layer."
   ]
  },
  {
   "cell_type": "code",
   "execution_count": 9,
   "metadata": {
    "collapsed": false
   },
   "outputs": [
    {
     "name": "stdout",
     "output_type": "stream",
     "text": [
      "Tests Passed\n"
     ]
    }
   ],
   "source": [
    "def flatten(x_tensor):\n",
    "    \"\"\"\n",
    "    Flatten x_tensor to (Batch Size, Flattened Image Size)\n",
    "    : x_tensor: A tensor of size (Batch Size, ...), where ... are the image dimensions.\n",
    "    : return: A tensor of size (Batch Size, Flattened Image Size).\n",
    "    \"\"\"\n",
    "    # TODO: Implement Function\n",
    "    \n",
    "    shape = x_tensor.get_shape()\n",
    "    x_tensor = tf.reshape(x_tensor, [-1 , shape[1].value * shape[2].value * shape[3].value])\n",
    "    return x_tensor\n",
    "\n",
    "\n",
    "\"\"\"\n",
    "DON'T MODIFY ANYTHING IN THIS CELL THAT IS BELOW THIS LINE\n",
    "\"\"\"\n",
    "tests.test_flatten(flatten)"
   ]
  },
  {
   "cell_type": "markdown",
   "metadata": {},
   "source": [
    "### Fully-Connected Layer\n",
    "Implement the `fully_conn` function to apply a fully connected layer to `x_tensor` with the shape (*Batch Size*, *num_outputs*). You can use [TensorFlow Layers](https://www.tensorflow.org/api_docs/python/tf/layers) or [TensorFlow Layers (contrib)](https://www.tensorflow.org/api_guides/python/contrib.layers) for this layer."
   ]
  },
  {
   "cell_type": "code",
   "execution_count": 10,
   "metadata": {
    "collapsed": false
   },
   "outputs": [
    {
     "name": "stdout",
     "output_type": "stream",
     "text": [
      "Tests Passed\n"
     ]
    }
   ],
   "source": [
    "def fully_conn(x_tensor, num_outputs):\n",
    "    \"\"\"\n",
    "    Apply a fully connected layer to x_tensor using weight and bias\n",
    "    : x_tensor: A 2-D tensor where the first dimension is batch size.\n",
    "    : num_outputs: The number of output that the new tensor should be.\n",
    "    : return: A 2-D tensor where the second dimension is num_outputs.\n",
    "    \"\"\"\n",
    "    # TODO: Implement Function\n",
    "    w = tf.Variable(tf.truncated_normal(shape=(x_tensor.get_shape()[1].value, num_outputs)))\n",
    "    b = tf.Variable(tf.zeros(shape=(num_outputs)))\n",
    "    \n",
    "    y = tf.add(tf.matmul(x_tensor,w), b)\n",
    "    \n",
    "    return y\n",
    "\n",
    "\n",
    "\"\"\"\n",
    "DON'T MODIFY ANYTHING IN THIS CELL THAT IS BELOW THIS LINE\n",
    "\"\"\"\n",
    "tests.test_fully_conn(fully_conn)"
   ]
  },
  {
   "cell_type": "markdown",
   "metadata": {},
   "source": [
    "### Output Layer\n",
    "Implement the `output` function to apply a fully connected layer to `x_tensor` with the shape (*Batch Size*, *num_outputs*). You can use [TensorFlow Layers](https://www.tensorflow.org/api_docs/python/tf/layers) or [TensorFlow Layers (contrib)](https://www.tensorflow.org/api_guides/python/contrib.layers) for this layer.\n",
    "\n",
    "Note: Activation, softmax, or cross entropy shouldn't be applied to this."
   ]
  },
  {
   "cell_type": "code",
   "execution_count": 11,
   "metadata": {
    "collapsed": false
   },
   "outputs": [
    {
     "name": "stdout",
     "output_type": "stream",
     "text": [
      "Tests Passed\n"
     ]
    }
   ],
   "source": [
    "def output(x_tensor, num_outputs):\n",
    "    \"\"\"\n",
    "    Apply a output layer to x_tensor using weight and bias\n",
    "    : x_tensor: A 2-D tensor where the first dimension is batch size.\n",
    "    : num_outputs: The number of output that the new tensor should be.\n",
    "    : return: A 2-D tensor where the second dimension is num_outputs.\n",
    "    \"\"\"\n",
    "    # TODO: Implement Function\n",
    "    \n",
    "    return fully_conn(x_tensor, num_outputs)\n",
    "\n",
    "\n",
    "\"\"\"\n",
    "DON'T MODIFY ANYTHING IN THIS CELL THAT IS BELOW THIS LINE\n",
    "\"\"\"\n",
    "tests.test_output(output)"
   ]
  },
  {
   "cell_type": "markdown",
   "metadata": {},
   "source": [
    "### Create Convolutional Model\n",
    "Implement the function `conv_net` to create a convolutional neural network model. The function takes in a batch of images, `x`, and outputs logits.  Use the layers you created above to create this model:\n",
    "\n",
    "* Apply 1, 2, or 3 Convolution and Max Pool layers\n",
    "* Apply a Flatten Layer\n",
    "* Apply 1, 2, or 3 Fully Connected Layers\n",
    "* Apply an Output Layer\n",
    "* Return the output\n",
    "* Apply [TensorFlow's Dropout](https://www.tensorflow.org/api_docs/python/tf/nn/dropout) to one or more layers in the model using `keep_prob`. "
   ]
  },
  {
   "cell_type": "code",
   "execution_count": 12,
   "metadata": {
    "collapsed": false
   },
   "outputs": [
    {
     "name": "stdout",
     "output_type": "stream",
     "text": [
      "Neural Network Built!\n"
     ]
    }
   ],
   "source": [
    "def conv_net(x, keep_prob):\n",
    "    \"\"\"\n",
    "    Create a convolutional neural network model\n",
    "    : x: Placeholder tensor that holds image data.\n",
    "    : keep_prob: Placeholder tensor that hold dropout keep probability.\n",
    "    : return: Tensor that represents logits\n",
    "    \"\"\"\n",
    "    # TODO: Apply 1, 2, or 3 Convolution and Max Pool layers\n",
    "    #    Play around with different number of outputs, kernel size and stride\n",
    "    # Function Definition from Above:\n",
    "    #    conv2d_maxpool(x_tensor, conv_num_outputs, conv_ksize, conv_strides, pool_ksize, pool_strides)\n",
    "    y_conv = conv2d_maxpool(x, 10, (5,5), (2,2), (4,4),(2,2))\n",
    "\n",
    "    # TODO: Apply a Flatten Layer\n",
    "    # Function Definition from Above:\n",
    "    #   flatten(x_tensor)\n",
    "    y_conv = flatten(y_conv)\n",
    "\n",
    "    # TODO: Apply 1, 2, or 3 Fully Connected Layers\n",
    "    #    Play around with different number of outputs\n",
    "    # Function Definition from Above:\n",
    "    #   fully_conn(x_tensor, num_outputs)\n",
    "    y_nn = fully_conn(y_conv, 10)\n",
    "    \n",
    "    y_nn = tf.nn.dropout(y_nn, keep_prob)\n",
    "    # TODO: Apply an Output Layer\n",
    "    #    Set this to the number of classes\n",
    "    # Function Definition from Above:\n",
    "    #   output(x_tensor, num_outputs)\n",
    "    y = output(y_nn, 10)\n",
    "    \n",
    "    # TODO: return output\n",
    "    return y\n",
    "\n",
    "\n",
    "\"\"\"\n",
    "DON'T MODIFY ANYTHING IN THIS CELL THAT IS BELOW THIS LINE\n",
    "\"\"\"\n",
    "\n",
    "##############################\n",
    "## Build the Neural Network ##\n",
    "##############################\n",
    "\n",
    "# Remove previous weights, bias, inputs, etc..\n",
    "tf.reset_default_graph()\n",
    "\n",
    "# Inputs\n",
    "x = neural_net_image_input((32, 32, 3))\n",
    "y = neural_net_label_input(10)\n",
    "keep_prob = neural_net_keep_prob_input()\n",
    "\n",
    "# Model\n",
    "logits = conv_net(x, keep_prob)\n",
    "\n",
    "# Name logits Tensor, so that is can be loaded from disk after training\n",
    "logits = tf.identity(logits, name='logits')\n",
    "\n",
    "# Loss and Optimizer\n",
    "cost = tf.reduce_mean(tf.nn.softmax_cross_entropy_with_logits(logits=logits, labels=y))\n",
    "optimizer = tf.train.AdamOptimizer().minimize(cost)\n",
    "\n",
    "# Accuracy\n",
    "correct_pred = tf.equal(tf.argmax(logits, 1), tf.argmax(y, 1))\n",
    "accuracy = tf.reduce_mean(tf.cast(correct_pred, tf.float32), name='accuracy')\n",
    "\n",
    "tests.test_conv_net(conv_net)"
   ]
  },
  {
   "cell_type": "markdown",
   "metadata": {},
   "source": [
    "## Train the Neural Network\n",
    "### Single Optimization\n",
    "Implement the function `train_neural_network` to do a single optimization.  The optimization should use `optimizer` to optimize in `session` with a `feed_dict` of the following:\n",
    "* `x` for image input\n",
    "* `y` for labels\n",
    "* `keep_prob` for keep probability for dropout\n",
    "\n",
    "This function will be called for each batch, so `tf.global_variables_initializer()` has already been called.\n",
    "\n",
    "Note: Nothing needs to be returned. This function is only optimizing the neural network."
   ]
  },
  {
   "cell_type": "code",
   "execution_count": 13,
   "metadata": {
    "collapsed": false
   },
   "outputs": [
    {
     "name": "stdout",
     "output_type": "stream",
     "text": [
      "Tests Passed\n"
     ]
    }
   ],
   "source": [
    "def train_neural_network(session, optimizer, keep_probability, feature_batch, label_batch):\n",
    "    \"\"\"\n",
    "    Optimize the session on a batch of images and labels\n",
    "    : session: Current TensorFlow session\n",
    "    : optimizer: TensorFlow optimizer function\n",
    "    : keep_probability: keep probability\n",
    "    : feature_batch: Batch of Numpy image data\n",
    "    : label_batch: Batch of Numpy label data\n",
    "    \"\"\"\n",
    "    # TODO: Implement Function\n",
    "    session.run(optimizer, feed_dict={x:feature_batch, y:label_batch, keep_prob:keep_probability})\n",
    "    \n",
    "\n",
    "\n",
    "\"\"\"\n",
    "DON'T MODIFY ANYTHING IN THIS CELL THAT IS BELOW THIS LINE\n",
    "\"\"\"\n",
    "tests.test_train_nn(train_neural_network)"
   ]
  },
  {
   "cell_type": "markdown",
   "metadata": {},
   "source": [
    "### Show Stats\n",
    "Implement the function `print_stats` to print loss and validation accuracy.  Use the global variables `valid_features` and `valid_labels` to calculate validation accuracy.  Use a keep probability of `1.0` to calculate the loss and validation accuracy."
   ]
  },
  {
   "cell_type": "code",
   "execution_count": 25,
   "metadata": {
    "collapsed": false
   },
   "outputs": [],
   "source": [
    "import pandas as pd\n",
    "loss = pd.DataFrame({'Training_loss':[],'Validation_loss':[]})\n",
    "def print_stats(session, feature_batch, label_batch, cost, accuracy):\n",
    "    \"\"\"\n",
    "    Print information about loss and validation accuracy\n",
    "    : session: Current TensorFlow session\n",
    "    : feature_batch: Batch of Numpy image data\n",
    "    : label_batch: Batch of Numpy label data\n",
    "    : cost: TensorFlow cost function\n",
    "    : accuracy: TensorFlow accuracy function\n",
    "    \"\"\"\n",
    "    # TODO: Implement Function\n",
    "    train_cost = session.run(cost, feed_dict={x:feature_batch, y:label_batch, keep_prob:1.0})\n",
    "    valid_cost = session.run(cost, feed_dict={x:valid_features, y:valid_labels, keep_prob:1.0})\n",
    "    loss.append({'Training_loss':train_cost,'Validation_loss':valid_cost})\n",
    "    valid_accuracy = session.run(accuracy, feed_dict={x:valid_features, y:valid_labels, keep_prob:1.0})\n",
    "    \n",
    "    print(\"Training loss:{}; Validation accuracy:{}\".format(train_cost, valid_accuracy))"
   ]
  },
  {
   "cell_type": "markdown",
   "metadata": {},
   "source": [
    "### Hyperparameters\n",
    "Tune the following parameters:\n",
    "* Set `epochs` to the number of iterations until the network stops learning or start overfitting\n",
    "* Set `batch_size` to the highest number that your machine has memory for.  Most people set them to common sizes of memory:\n",
    " * 64\n",
    " * 128\n",
    " * 256\n",
    " * ...\n",
    "* Set `keep_probability` to the probability of keeping a node using dropout"
   ]
  },
  {
   "cell_type": "code",
   "execution_count": 15,
   "metadata": {
    "collapsed": true
   },
   "outputs": [],
   "source": [
    "# TODO: Tune Parameters\n",
    "epochs = 10\n",
    "batch_size = 64\n",
    "keep_probability = 0.6"
   ]
  },
  {
   "cell_type": "markdown",
   "metadata": {},
   "source": [
    "### Train on a Single CIFAR-10 Batch\n",
    "Instead of training the neural network on all the CIFAR-10 batches of data, let's use a single batch. This should save time while you iterate on the model to get a better accuracy.  Once the final validation accuracy is 50% or greater, run the model on all the data in the next section."
   ]
  },
  {
   "cell_type": "code",
   "execution_count": 20,
   "metadata": {
    "collapsed": false
   },
   "outputs": [
    {
     "name": "stdout",
     "output_type": "stream",
     "text": [
      "Checking the Training on a Single Batch...\n",
      "Epoch  1, CIFAR-10 Batch 1:  Training loss:56.940452575683594; Validation accuracy:0.11879999935626984\n",
      "Epoch  2, CIFAR-10 Batch 1:  Training loss:38.06438446044922; Validation accuracy:0.15860000252723694\n",
      "Epoch  3, CIFAR-10 Batch 1:  Training loss:30.69287109375; Validation accuracy:0.18279999494552612\n",
      "Epoch  4, CIFAR-10 Batch 1:  Training loss:27.091747283935547; Validation accuracy:0.1956000030040741\n",
      "Epoch  5, CIFAR-10 Batch 1:  Training loss:24.511226654052734; Validation accuracy:0.19499999284744263\n",
      "Epoch  6, CIFAR-10 Batch 1:  Training loss:20.745813369750977; Validation accuracy:0.20960000157356262\n",
      "Epoch  7, CIFAR-10 Batch 1:  Training loss:19.063091278076172; Validation accuracy:0.20640000700950623\n",
      "Epoch  8, CIFAR-10 Batch 1:  Training loss:16.817773818969727; Validation accuracy:0.2134000062942505\n",
      "Epoch  9, CIFAR-10 Batch 1:  Training loss:14.658025741577148; Validation accuracy:0.2160000056028366\n",
      "Epoch 10, CIFAR-10 Batch 1:  Training loss:13.397829055786133; Validation accuracy:0.22020000219345093\n",
      "Epoch 11, CIFAR-10 Batch 1:  Training loss:12.016230583190918; Validation accuracy:0.22139999270439148\n",
      "Epoch 12, CIFAR-10 Batch 1:  Training loss:11.698328018188477; Validation accuracy:0.22179999947547913\n",
      "Epoch 13, CIFAR-10 Batch 1:  Training loss:9.961198806762695; Validation accuracy:0.22059999406337738\n",
      "Epoch 14, CIFAR-10 Batch 1:  Training loss:9.234978675842285; Validation accuracy:0.2199999988079071\n",
      "Epoch 15, CIFAR-10 Batch 1:  Training loss:8.351598739624023; Validation accuracy:0.21860000491142273\n",
      "Epoch 16, CIFAR-10 Batch 1:  Training loss:7.730569362640381; Validation accuracy:0.22540000081062317\n",
      "Epoch 17, CIFAR-10 Batch 1:  Training loss:6.674673557281494; Validation accuracy:0.2240000069141388\n",
      "Epoch 18, CIFAR-10 Batch 1:  Training loss:6.171710014343262; Validation accuracy:0.227400004863739\n",
      "Epoch 19, CIFAR-10 Batch 1:  Training loss:5.6133527755737305; Validation accuracy:0.2295999974012375\n",
      "Epoch 20, CIFAR-10 Batch 1:  Training loss:4.959256172180176; Validation accuracy:0.2303999960422516\n"
     ]
    }
   ],
   "source": [
    "\"\"\"\n",
    "DON'T MODIFY ANYTHING IN THIS CELL\n",
    "\"\"\"\n",
    "print('Checking the Training on a Single Batch...')\n",
    "with tf.Session() as sess:\n",
    "    # Initializing the variables\n",
    "    #sess.run(tf.global_variables_initializer())\n",
    "    sess.run(tf.initialize_all_variables())\n",
    "    \n",
    "    # Training cycle\n",
    "    for epoch in range(epochs):\n",
    "        batch_i = 1\n",
    "        for batch_features, batch_labels in helper.load_preprocess_training_batch(batch_i, batch_size):\n",
    "            train_neural_network(sess, optimizer, keep_probability, batch_features, batch_labels)\n",
    "        print('Epoch {:>2}, CIFAR-10 Batch {}:  '.format(epoch + 1, batch_i), end='')\n",
    "        print_stats(sess, batch_features, batch_labels, cost, accuracy)"
   ]
  },
  {
   "cell_type": "markdown",
   "metadata": {},
   "source": [
    "### Fully Train the Model\n",
    "Now that you got a good accuracy with a single CIFAR-10 batch, try it with all five batches."
   ]
  },
  {
   "cell_type": "code",
   "execution_count": 21,
   "metadata": {
    "collapsed": false
   },
   "outputs": [
    {
     "name": "stdout",
     "output_type": "stream",
     "text": [
      "Training...\n",
      "Epoch  1, CIFAR-10 Batch 1:  Training loss:48.23270034790039; Validation accuracy:0.10840000212192535\n",
      "Epoch  1, CIFAR-10 Batch 2:  Training loss:37.61644744873047; Validation accuracy:0.12039999663829803\n",
      "Epoch  1, CIFAR-10 Batch 3:  Training loss:34.395851135253906; Validation accuracy:0.13420000672340393\n",
      "Epoch  1, CIFAR-10 Batch 4:  Training loss:18.89260482788086; Validation accuracy:0.14259999990463257\n",
      "Epoch  1, CIFAR-10 Batch 5:  Training loss:17.72640609741211; Validation accuracy:0.1509999930858612\n",
      "Epoch  2, CIFAR-10 Batch 1:  Training loss:22.06671714782715; Validation accuracy:0.15700000524520874\n",
      "Epoch  2, CIFAR-10 Batch 2:  Training loss:18.20269203186035; Validation accuracy:0.15800000727176666\n",
      "Epoch  2, CIFAR-10 Batch 3:  Training loss:17.70741844177246; Validation accuracy:0.1664000004529953\n",
      "Epoch  2, CIFAR-10 Batch 4:  Training loss:11.063886642456055; Validation accuracy:0.17180000245571136\n",
      "Epoch  2, CIFAR-10 Batch 5:  Training loss:8.50043773651123; Validation accuracy:0.17599999904632568\n",
      "Epoch  3, CIFAR-10 Batch 1:  Training loss:12.056343078613281; Validation accuracy:0.1738000065088272\n",
      "Epoch  3, CIFAR-10 Batch 2:  Training loss:10.024179458618164; Validation accuracy:0.1793999969959259\n",
      "Epoch  3, CIFAR-10 Batch 3:  Training loss:8.145868301391602; Validation accuracy:0.1873999983072281\n",
      "Epoch  3, CIFAR-10 Batch 4:  Training loss:5.8940534591674805; Validation accuracy:0.186599999666214\n",
      "Epoch  3, CIFAR-10 Batch 5:  Training loss:3.9113574028015137; Validation accuracy:0.1860000044107437\n",
      "Epoch  4, CIFAR-10 Batch 1:  Training loss:5.774352550506592; Validation accuracy:0.19140000641345978\n",
      "Epoch  4, CIFAR-10 Batch 2:  Training loss:4.7246413230896; Validation accuracy:0.19599999487400055\n",
      "Epoch  4, CIFAR-10 Batch 3:  Training loss:3.5863311290740967; Validation accuracy:0.1987999975681305\n",
      "Epoch  4, CIFAR-10 Batch 4:  Training loss:3.1472489833831787; Validation accuracy:0.2029999941587448\n",
      "Epoch  4, CIFAR-10 Batch 5:  Training loss:2.4612810611724854; Validation accuracy:0.20960000157356262\n",
      "Epoch  5, CIFAR-10 Batch 1:  Training loss:3.1451449394226074; Validation accuracy:0.21080000698566437\n",
      "Epoch  5, CIFAR-10 Batch 2:  Training loss:2.7681620121002197; Validation accuracy:0.22259999811649323\n",
      "Epoch  5, CIFAR-10 Batch 3:  Training loss:2.308440685272217; Validation accuracy:0.21799999475479126\n",
      "Epoch  5, CIFAR-10 Batch 4:  Training loss:2.376983165740967; Validation accuracy:0.22599999606609344\n",
      "Epoch  5, CIFAR-10 Batch 5:  Training loss:2.11858868598938; Validation accuracy:0.23280000686645508\n",
      "Epoch  6, CIFAR-10 Batch 1:  Training loss:2.3210206031799316; Validation accuracy:0.23260000348091125\n",
      "Epoch  6, CIFAR-10 Batch 2:  Training loss:2.0796279907226562; Validation accuracy:0.23999999463558197\n",
      "Epoch  6, CIFAR-10 Batch 3:  Training loss:1.958092451095581; Validation accuracy:0.2409999966621399\n",
      "Epoch  6, CIFAR-10 Batch 4:  Training loss:2.1108169555664062; Validation accuracy:0.24560000002384186\n",
      "Epoch  6, CIFAR-10 Batch 5:  Training loss:1.9421806335449219; Validation accuracy:0.2476000040769577\n",
      "Epoch  7, CIFAR-10 Batch 1:  Training loss:2.0372443199157715; Validation accuracy:0.24959999322891235\n",
      "Epoch  7, CIFAR-10 Batch 2:  Training loss:1.9933974742889404; Validation accuracy:0.26019999384880066\n",
      "Epoch  7, CIFAR-10 Batch 3:  Training loss:1.9537839889526367; Validation accuracy:0.24879999458789825\n",
      "Epoch  7, CIFAR-10 Batch 4:  Training loss:2.0884625911712646; Validation accuracy:0.2556000053882599\n",
      "Epoch  7, CIFAR-10 Batch 5:  Training loss:1.9232978820800781; Validation accuracy:0.2556000053882599\n",
      "Epoch  8, CIFAR-10 Batch 1:  Training loss:2.0061168670654297; Validation accuracy:0.2529999911785126\n",
      "Epoch  8, CIFAR-10 Batch 2:  Training loss:1.9229204654693604; Validation accuracy:0.25380000472068787\n",
      "Epoch  8, CIFAR-10 Batch 3:  Training loss:1.9272537231445312; Validation accuracy:0.2476000040769577\n",
      "Epoch  8, CIFAR-10 Batch 4:  Training loss:2.0892693996429443; Validation accuracy:0.259799987077713\n",
      "Epoch  8, CIFAR-10 Batch 5:  Training loss:1.9124094247817993; Validation accuracy:0.26339998841285706\n",
      "Epoch  9, CIFAR-10 Batch 1:  Training loss:1.9847633838653564; Validation accuracy:0.25940001010894775\n",
      "Epoch  9, CIFAR-10 Batch 2:  Training loss:1.9472923278808594; Validation accuracy:0.2621999979019165\n",
      "Epoch  9, CIFAR-10 Batch 3:  Training loss:1.894067406654358; Validation accuracy:0.25380000472068787\n",
      "Epoch  9, CIFAR-10 Batch 4:  Training loss:2.0247318744659424; Validation accuracy:0.27160000801086426\n",
      "Epoch  9, CIFAR-10 Batch 5:  Training loss:1.8981927633285522; Validation accuracy:0.2619999945163727\n",
      "Epoch 10, CIFAR-10 Batch 1:  Training loss:1.9626392126083374; Validation accuracy:0.26919999718666077\n",
      "Epoch 10, CIFAR-10 Batch 2:  Training loss:1.8966318368911743; Validation accuracy:0.27079999446868896\n",
      "Epoch 10, CIFAR-10 Batch 3:  Training loss:1.8525009155273438; Validation accuracy:0.27300000190734863\n",
      "Epoch 10, CIFAR-10 Batch 4:  Training loss:2.020965099334717; Validation accuracy:0.2773999869823456\n",
      "Epoch 10, CIFAR-10 Batch 5:  Training loss:1.9087121486663818; Validation accuracy:0.27300000190734863\n",
      "Epoch 11, CIFAR-10 Batch 1:  Training loss:1.9397979974746704; Validation accuracy:0.28540000319480896\n",
      "Epoch 11, CIFAR-10 Batch 2:  Training loss:1.8627233505249023; Validation accuracy:0.2818000018596649\n",
      "Epoch 11, CIFAR-10 Batch 3:  Training loss:1.8170759677886963; Validation accuracy:0.2777999937534332\n",
      "Epoch 11, CIFAR-10 Batch 4:  Training loss:1.9800277948379517; Validation accuracy:0.2815999984741211\n",
      "Epoch 11, CIFAR-10 Batch 5:  Training loss:1.8920224905014038; Validation accuracy:0.2849999964237213\n",
      "Epoch 12, CIFAR-10 Batch 1:  Training loss:1.906307578086853; Validation accuracy:0.2888000011444092\n",
      "Epoch 12, CIFAR-10 Batch 2:  Training loss:1.8328937292099; Validation accuracy:0.28780001401901245\n",
      "Epoch 12, CIFAR-10 Batch 3:  Training loss:1.7710052728652954; Validation accuracy:0.2937999963760376\n",
      "Epoch 12, CIFAR-10 Batch 4:  Training loss:1.9675216674804688; Validation accuracy:0.29019999504089355\n",
      "Epoch 12, CIFAR-10 Batch 5:  Training loss:1.8724679946899414; Validation accuracy:0.2948000133037567\n",
      "Epoch 13, CIFAR-10 Batch 1:  Training loss:1.888284683227539; Validation accuracy:0.30000001192092896\n",
      "Epoch 13, CIFAR-10 Batch 2:  Training loss:1.7894980907440186; Validation accuracy:0.2948000133037567\n",
      "Epoch 13, CIFAR-10 Batch 3:  Training loss:1.7665716409683228; Validation accuracy:0.2994000017642975\n",
      "Epoch 13, CIFAR-10 Batch 4:  Training loss:1.9544563293457031; Validation accuracy:0.3142000138759613\n",
      "Epoch 13, CIFAR-10 Batch 5:  Training loss:1.8550857305526733; Validation accuracy:0.30959999561309814\n",
      "Epoch 14, CIFAR-10 Batch 1:  Training loss:1.8687984943389893; Validation accuracy:0.3089999854564667\n",
      "Epoch 14, CIFAR-10 Batch 2:  Training loss:1.7109330892562866; Validation accuracy:0.30059999227523804\n",
      "Epoch 14, CIFAR-10 Batch 3:  Training loss:1.7385402917861938; Validation accuracy:0.3100000023841858\n",
      "Epoch 14, CIFAR-10 Batch 4:  Training loss:1.9439029693603516; Validation accuracy:0.32199999690055847\n",
      "Epoch 14, CIFAR-10 Batch 5:  Training loss:1.8321377038955688; Validation accuracy:0.3230000138282776\n",
      "Epoch 15, CIFAR-10 Batch 1:  Training loss:1.8899551630020142; Validation accuracy:0.3215999901294708\n",
      "Epoch 15, CIFAR-10 Batch 2:  Training loss:1.6758754253387451; Validation accuracy:0.32420000433921814\n",
      "Epoch 15, CIFAR-10 Batch 3:  Training loss:1.7187213897705078; Validation accuracy:0.3158000111579895\n",
      "Epoch 15, CIFAR-10 Batch 4:  Training loss:1.9373239278793335; Validation accuracy:0.329800009727478\n",
      "Epoch 15, CIFAR-10 Batch 5:  Training loss:1.8072484731674194; Validation accuracy:0.31940001249313354\n",
      "Epoch 16, CIFAR-10 Batch 1:  Training loss:1.8387253284454346; Validation accuracy:0.3425999879837036\n",
      "Epoch 16, CIFAR-10 Batch 2:  Training loss:1.6452668905258179; Validation accuracy:0.3294000029563904\n",
      "Epoch 16, CIFAR-10 Batch 3:  Training loss:1.7151966094970703; Validation accuracy:0.32339999079704285\n",
      "Epoch 16, CIFAR-10 Batch 4:  Training loss:1.8917992115020752; Validation accuracy:0.3391999900341034\n",
      "Epoch 16, CIFAR-10 Batch 5:  Training loss:1.7862297296524048; Validation accuracy:0.33820000290870667\n",
      "Epoch 17, CIFAR-10 Batch 1:  Training loss:1.8307855129241943; Validation accuracy:0.33660000562667847\n",
      "Epoch 17, CIFAR-10 Batch 2:  Training loss:1.6136038303375244; Validation accuracy:0.337799996137619\n",
      "Epoch 17, CIFAR-10 Batch 3:  Training loss:1.6995925903320312; Validation accuracy:0.3368000090122223\n",
      "Epoch 17, CIFAR-10 Batch 4:  Training loss:1.8538726568222046; Validation accuracy:0.3529999852180481\n",
      "Epoch 17, CIFAR-10 Batch 5:  Training loss:1.775433897972107; Validation accuracy:0.3452000021934509\n",
      "Epoch 18, CIFAR-10 Batch 1:  Training loss:1.8323503732681274; Validation accuracy:0.34540000557899475\n",
      "Epoch 18, CIFAR-10 Batch 2:  Training loss:1.5669492483139038; Validation accuracy:0.34619998931884766\n",
      "Epoch 18, CIFAR-10 Batch 3:  Training loss:1.677246332168579; Validation accuracy:0.3449999988079071\n",
      "Epoch 18, CIFAR-10 Batch 4:  Training loss:1.8218094110488892; Validation accuracy:0.3587999939918518\n",
      "Epoch 18, CIFAR-10 Batch 5:  Training loss:1.7682526111602783; Validation accuracy:0.3625999987125397\n",
      "Epoch 19, CIFAR-10 Batch 1:  Training loss:1.7900218963623047; Validation accuracy:0.362199991941452\n",
      "Epoch 19, CIFAR-10 Batch 2:  Training loss:1.5239222049713135; Validation accuracy:0.34880000352859497\n",
      "Epoch 19, CIFAR-10 Batch 3:  Training loss:1.6457008123397827; Validation accuracy:0.36000001430511475\n",
      "Epoch 19, CIFAR-10 Batch 4:  Training loss:1.8295596837997437; Validation accuracy:0.36980000138282776\n",
      "Epoch 19, CIFAR-10 Batch 5:  Training loss:1.744131088256836; Validation accuracy:0.36719998717308044\n",
      "Epoch 20, CIFAR-10 Batch 1:  Training loss:1.7798181772232056; Validation accuracy:0.36980000138282776\n",
      "Epoch 20, CIFAR-10 Batch 2:  Training loss:1.4855209589004517; Validation accuracy:0.35760000348091125\n",
      "Epoch 20, CIFAR-10 Batch 3:  Training loss:1.645522117614746; Validation accuracy:0.36419999599456787\n",
      "Epoch 20, CIFAR-10 Batch 4:  Training loss:1.8018481731414795; Validation accuracy:0.37439998984336853\n",
      "Epoch 20, CIFAR-10 Batch 5:  Training loss:1.7312265634536743; Validation accuracy:0.3707999885082245\n"
     ]
    }
   ],
   "source": [
    "\"\"\"\n",
    "DON'T MODIFY ANYTHING IN THIS CELL\n",
    "\"\"\"\n",
    "save_model_path = './image_classification'\n",
    "\n",
    "print('Training...')\n",
    "with tf.Session() as sess:\n",
    "    # Initializing the variables\n",
    "    # sess.run(tf.global_variables_initializer())\n",
    "    sess.run(tf.initialize_all_variables())\n",
    "    # Training cycle\n",
    "    for epoch in range(epochs):\n",
    "        # Loop over all batches\n",
    "        n_batches = 5\n",
    "        for batch_i in range(1, n_batches + 1):\n",
    "            for batch_features, batch_labels in helper.load_preprocess_training_batch(batch_i, batch_size):\n",
    "                train_neural_network(sess, optimizer, keep_probability, batch_features, batch_labels)\n",
    "            print('Epoch {:>2}, CIFAR-10 Batch {}:  '.format(epoch + 1, batch_i), end='')\n",
    "            print_stats(sess, batch_features, batch_labels, cost, accuracy)\n",
    "            \n",
    "    # Save Model\n",
    "    saver = tf.train.Saver()\n",
    "    save_path = saver.save(sess, save_model_path)"
   ]
  },
  {
   "cell_type": "markdown",
   "metadata": {},
   "source": [
    "# Checkpoint\n",
    "The model has been saved to disk.\n",
    "## Test Model\n",
    "Test your model against the test dataset.  This will be your final accuracy. You should have an accuracy greater than 50%. If you don't, keep tweaking the model architecture and parameters."
   ]
  },
  {
   "cell_type": "code",
   "execution_count": 26,
   "metadata": {
    "collapsed": false
   },
   "outputs": [
    {
     "name": "stdout",
     "output_type": "stream",
     "text": [
      "Testing Accuracy: 0.36216162420382164\n",
      "\n"
     ]
    },
    {
     "data": {
      "image/png": "[encoded data removed]",
      "text/plain": [
       "<matplotlib.figure.Figure at 0x7fa8401ba320>"
      ]
     },
     "metadata": {
      "image/png": {
       "height": 319,
       "width": 355
      }
     },
     "output_type": "display_data"
    }
   ],
   "source": [
    "\"\"\"\n",
    "DON'T MODIFY ANYTHING IN THIS CELL\n",
    "\"\"\"\n",
    "%matplotlib inline\n",
    "%config InlineBackend.figure_format = 'retina'\n",
    "\n",
    "import tensorflow as tf\n",
    "import pickle\n",
    "import helper\n",
    "import random\n",
    "\n",
    "# Set batch size if not already set\n",
    "try:\n",
    "    if batch_size:\n",
    "        pass\n",
    "except NameError:\n",
    "    batch_size = 64\n",
    "\n",
    "save_model_path = './image_classification'\n",
    "n_samples = 4\n",
    "top_n_predictions = 3\n",
    "\n",
    "def test_model():\n",
    "    \"\"\"\n",
    "    Test the saved model against the test dataset\n",
    "    \"\"\"\n",
    "\n",
    "    test_features, test_labels = pickle.load(open('preprocess_training.p', mode='rb'))\n",
    "    loaded_graph = tf.Graph()\n",
    "\n",
    "    with tf.Session(graph=loaded_graph) as sess:\n",
    "        # Load model\n",
    "        loader = tf.train.import_meta_graph(save_model_path + '.meta')\n",
    "        loader.restore(sess, save_model_path)\n",
    "\n",
    "        # Get Tensors from loaded model\n",
    "        loaded_x = loaded_graph.get_tensor_by_name('x:0')\n",
    "        loaded_y = loaded_graph.get_tensor_by_name('y:0')\n",
    "        loaded_keep_prob = loaded_graph.get_tensor_by_name('keep_prob:0')\n",
    "        loaded_logits = loaded_graph.get_tensor_by_name('logits:0')\n",
    "        loaded_acc = loaded_graph.get_tensor_by_name('accuracy:0')\n",
    "        \n",
    "        # Get accuracy in batches for memory limitations\n",
    "        test_batch_acc_total = 0\n",
    "        test_batch_count = 0\n",
    "        \n",
    "        for train_feature_batch, train_label_batch in helper.batch_features_labels(test_features, test_labels, batch_size):\n",
    "            test_batch_acc_total += sess.run(\n",
    "                loaded_acc,\n",
    "                feed_dict={loaded_x: train_feature_batch, loaded_y: train_label_batch, loaded_keep_prob: 1.0})\n",
    "            test_batch_count += 1\n",
    "\n",
    "        print('Testing Accuracy: {}\\n'.format(test_batch_acc_total/test_batch_count))\n",
    "\n",
    "        # Print Random Samples\n",
    "        random_test_features, random_test_labels = tuple(zip(*random.sample(list(zip(test_features, test_labels)), n_samples)))\n",
    "        random_test_predictions = sess.run(\n",
    "            tf.nn.top_k(tf.nn.softmax(loaded_logits), top_n_predictions),\n",
    "            feed_dict={loaded_x: random_test_features, loaded_y: random_test_labels, loaded_keep_prob: 1.0})\n",
    "        helper.display_image_predictions(random_test_features, random_test_labels, random_test_predictions)\n",
    "\n",
    "\n",
    "test_model()"
   ]
  },
  {
   "cell_type": "markdown",
   "metadata": {},
   "source": [
    "## Why 50-70% Accuracy?\n",
    "You might be wondering why you can't get an accuracy any higher. First things first, 50% isn't bad for a simple CNN.  Pure guessing would get you 10% accuracy. However, you might notice people are getting scores [well above 70%](http://rodrigob.github.io/are_we_there_yet/build/classification_datasets_results.html#43494641522d3130).  That's because we haven't taught you all there is to know about neural networks. We still need to cover a few more techniques.\n",
    "## Submitting This Project\n",
    "When submitting this project, make sure to run all the cells before saving the notebook.  Save the notebook file as \"dlnd_image_classification.ipynb\" and save it as a HTML file under \"File\" -> \"Download as\".  Include the \"helper.py\" and \"problem_unittests.py\" files in your submission."
   ]
  }
 ],
 "metadata": {
  "kernelspec": {
   "display_name": "Python 3",
   "language": "python",
   "name": "python3"
  },
  "language_info": {
   "codemirror_mode": {
    "name": "ipython",
    "version": 3
   },
   "file_extension": ".py",
   "mimetype": "text/x-python",
   "name": "python",
   "nbconvert_exporter": "python",
   "pygments_lexer": "ipython3",
   "version": "3.5.2"
  },
  "toc": {
   "colors": {
    "hover_highlight": "#DAA520",
    "running_highlight": "#FF0000",
    "selected_highlight": "#FFD700"
   },
   "moveMenuLeft": true,
   "nav_menu": {
    "height": "507px",
    "width": "252px"
   },
   "navigate_menu": true,
   "number_sections": true,
   "sideBar": true,
   "threshold": 4,
   "toc_cell": false,
   "toc_section_display": "block",
   "toc_window_display": false
  }
 },
 "nbformat": 4,
 "nbformat_minor": 0
}
